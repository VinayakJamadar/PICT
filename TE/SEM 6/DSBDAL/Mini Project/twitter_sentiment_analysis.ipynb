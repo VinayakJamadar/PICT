{
 "cells": [
  {
   "cell_type": "code",
   "execution_count": 64,
   "id": "39d38cef",
   "metadata": {
    "_cell_guid": "b1076dfc-b9ad-4769-8c92-a6c4dae69d19",
    "_uuid": "8f2839f25d086af736a60e9eeb907d3b93b6e0e5",
    "execution": {
     "iopub.execute_input": "2021-10-26T11:26:24.414787Z",
     "iopub.status.busy": "2021-10-26T11:26:24.413553Z",
     "iopub.status.idle": "2021-10-26T11:26:24.434303Z",
     "shell.execute_reply": "2021-10-26T11:26:24.434906Z",
     "shell.execute_reply.started": "2021-10-26T10:58:23.887788Z"
    },
    "papermill": {
     "duration": 0.078045,
     "end_time": "2021-10-26T11:26:24.435221",
     "exception": false,
     "start_time": "2021-10-26T11:26:24.357176",
     "status": "completed"
    },
    "tags": []
   },
   "outputs": [],
   "source": [
    "import numpy as np # linear algebra\n",
    "import pandas as pd # data processing, CSV file I/O (e.g. pd.read_csv)\n",
    "import re\n",
    "\n",
    "#read the csv\n",
    "df = pd.read_csv(\"Twitter_Data.csv\") "
   ]
  },
  {
   "cell_type": "code",
   "execution_count": 65,
   "id": "8ddd5e19",
   "metadata": {
    "execution": {
     "iopub.execute_input": "2021-10-26T11:26:25.520930Z",
     "iopub.status.busy": "2021-10-26T11:26:25.515551Z",
     "iopub.status.idle": "2021-10-26T11:26:25.523839Z",
     "shell.execute_reply": "2021-10-26T11:26:25.524348Z",
     "shell.execute_reply.started": "2021-10-26T10:58:24.763992Z"
    },
    "papermill": {
     "duration": 0.063316,
     "end_time": "2021-10-26T11:26:25.524520",
     "exception": false,
     "start_time": "2021-10-26T11:26:25.461204",
     "status": "completed"
    },
    "tags": []
   },
   "outputs": [
    {
     "data": {
      "text/plain": [
       "(162980, 2)"
      ]
     },
     "execution_count": 65,
     "metadata": {},
     "output_type": "execute_result"
    }
   ],
   "source": [
    "#get no. of rows and columns\n",
    "df.shape"
   ]
  },
  {
   "cell_type": "code",
   "execution_count": 66,
   "id": "53b57f11",
   "metadata": {
    "execution": {
     "iopub.execute_input": "2021-10-26T11:26:25.631776Z",
     "iopub.status.busy": "2021-10-26T11:26:25.631051Z",
     "iopub.status.idle": "2021-10-26T11:26:25.650584Z",
     "shell.execute_reply": "2021-10-26T11:26:25.650022Z",
     "shell.execute_reply.started": "2021-10-26T10:58:24.774331Z"
    },
    "papermill": {
     "duration": 0.074463,
     "end_time": "2021-10-26T11:26:25.650749",
     "exception": false,
     "start_time": "2021-10-26T11:26:25.576286",
     "status": "completed"
    },
    "tags": []
   },
   "outputs": [
    {
     "data": {
      "text/html": [
       "<div>\n",
       "<style scoped>\n",
       "    .dataframe tbody tr th:only-of-type {\n",
       "        vertical-align: middle;\n",
       "    }\n",
       "\n",
       "    .dataframe tbody tr th {\n",
       "        vertical-align: top;\n",
       "    }\n",
       "\n",
       "    .dataframe thead th {\n",
       "        text-align: right;\n",
       "    }\n",
       "</style>\n",
       "<table border=\"1\" class=\"dataframe\">\n",
       "  <thead>\n",
       "    <tr style=\"text-align: right;\">\n",
       "      <th></th>\n",
       "      <th>clean_text</th>\n",
       "      <th>category</th>\n",
       "    </tr>\n",
       "  </thead>\n",
       "  <tbody>\n",
       "    <tr>\n",
       "      <th>0</th>\n",
       "      <td>when modi promised “minimum government maximum...</td>\n",
       "      <td>-1.0</td>\n",
       "    </tr>\n",
       "    <tr>\n",
       "      <th>1</th>\n",
       "      <td>talk all the nonsense and continue all the dra...</td>\n",
       "      <td>0.0</td>\n",
       "    </tr>\n",
       "    <tr>\n",
       "      <th>2</th>\n",
       "      <td>what did just say vote for modi  welcome bjp t...</td>\n",
       "      <td>1.0</td>\n",
       "    </tr>\n",
       "    <tr>\n",
       "      <th>3</th>\n",
       "      <td>asking his supporters prefix chowkidar their n...</td>\n",
       "      <td>1.0</td>\n",
       "    </tr>\n",
       "    <tr>\n",
       "      <th>4</th>\n",
       "      <td>answer who among these the most powerful world...</td>\n",
       "      <td>1.0</td>\n",
       "    </tr>\n",
       "  </tbody>\n",
       "</table>\n",
       "</div>"
      ],
      "text/plain": [
       "                                          clean_text  category\n",
       "0  when modi promised “minimum government maximum...      -1.0\n",
       "1  talk all the nonsense and continue all the dra...       0.0\n",
       "2  what did just say vote for modi  welcome bjp t...       1.0\n",
       "3  asking his supporters prefix chowkidar their n...       1.0\n",
       "4  answer who among these the most powerful world...       1.0"
      ]
     },
     "execution_count": 66,
     "metadata": {},
     "output_type": "execute_result"
    }
   ],
   "source": [
    "#To list first 5 records with header\n",
    "df.head()"
   ]
  },
  {
   "cell_type": "code",
   "execution_count": 67,
   "id": "577e8d41",
   "metadata": {
    "execution": {
     "iopub.execute_input": "2021-10-26T11:26:25.761289Z",
     "iopub.status.busy": "2021-10-26T11:26:25.760549Z",
     "iopub.status.idle": "2021-10-26T11:26:25.804827Z",
     "shell.execute_reply": "2021-10-26T11:26:25.804076Z",
     "shell.execute_reply.started": "2021-10-26T10:58:24.804627Z"
    },
    "papermill": {
     "duration": 0.100824,
     "end_time": "2021-10-26T11:26:25.805006",
     "exception": false,
     "start_time": "2021-10-26T11:26:25.704182",
     "status": "completed"
    },
    "tags": []
   },
   "outputs": [
    {
     "name": "stdout",
     "output_type": "stream",
     "text": [
      "<class 'pandas.core.frame.DataFrame'>\n",
      "RangeIndex: 162980 entries, 0 to 162979\n",
      "Data columns (total 2 columns):\n",
      " #   Column      Non-Null Count   Dtype  \n",
      "---  ------      --------------   -----  \n",
      " 0   clean_text  162976 non-null  object \n",
      " 1   category    162973 non-null  float64\n",
      "dtypes: float64(1), object(1)\n",
      "memory usage: 2.5+ MB\n"
     ]
    }
   ],
   "source": [
    "#To check if any non-null value present in the dataset\n",
    "df.info()"
   ]
  },
  {
   "cell_type": "code",
   "execution_count": 68,
   "id": "64b7c5fc",
   "metadata": {
    "execution": {
     "iopub.execute_input": "2021-10-26T11:26:25.977957Z",
     "iopub.status.busy": "2021-10-26T11:26:25.977246Z",
     "iopub.status.idle": "2021-10-26T11:26:25.978671Z",
     "shell.execute_reply": "2021-10-26T11:26:25.979260Z",
     "shell.execute_reply.started": "2021-10-26T10:58:24.858490Z"
    },
    "papermill": {
     "duration": 0.060249,
     "end_time": "2021-10-26T11:26:25.979441",
     "exception": false,
     "start_time": "2021-10-26T11:26:25.919192",
     "status": "completed"
    },
    "tags": []
   },
   "outputs": [],
   "source": [
    "# Clean HTML tags present in dataset\n",
    "def strip_tags(text):         \n",
    "    pattern = re.compile('<.*?>')   \n",
    "    result = re.sub(pattern,'', str(text))\n",
    "    return result  "
   ]
  },
  {
   "cell_type": "code",
   "execution_count": 69,
   "id": "7a1590d6",
   "metadata": {
    "execution": {
     "iopub.execute_input": "2021-10-26T11:26:26.090599Z",
     "iopub.status.busy": "2021-10-26T11:26:26.089934Z",
     "iopub.status.idle": "2021-10-26T11:26:26.093539Z",
     "shell.execute_reply": "2021-10-26T11:26:26.094067Z",
     "shell.execute_reply.started": "2021-10-26T10:58:24.865951Z"
    },
    "papermill": {
     "duration": 0.059511,
     "end_time": "2021-10-26T11:26:26.094247",
     "exception": false,
     "start_time": "2021-10-26T11:26:26.034736",
     "status": "completed"
    },
    "tags": []
   },
   "outputs": [],
   "source": [
    "#lower the string\n",
    "def to_lower(str):\n",
    "    return str.lower()"
   ]
  },
  {
   "cell_type": "code",
   "execution_count": 70,
   "id": "84e26c6d",
   "metadata": {
    "execution": {
     "iopub.execute_input": "2021-10-26T11:26:26.203449Z",
     "iopub.status.busy": "2021-10-26T11:26:26.202799Z",
     "iopub.status.idle": "2021-10-26T11:26:26.728885Z",
     "shell.execute_reply": "2021-10-26T11:26:26.729440Z",
     "shell.execute_reply.started": "2021-10-26T10:58:24.879569Z"
    },
    "papermill": {
     "duration": 0.582103,
     "end_time": "2021-10-26T11:26:26.729632",
     "exception": false,
     "start_time": "2021-10-26T11:26:26.147529",
     "status": "completed"
    },
    "tags": []
   },
   "outputs": [],
   "source": [
    "#apply clean html\n",
    "df[\"clean_text\"] = df[\"clean_text\"].apply(strip_tags)"
   ]
  },
  {
   "cell_type": "code",
   "execution_count": 71,
   "id": "9604ebf4",
   "metadata": {
    "execution": {
     "iopub.execute_input": "2021-10-26T11:26:26.842618Z",
     "iopub.status.busy": "2021-10-26T11:26:26.841955Z",
     "iopub.status.idle": "2021-10-26T11:26:26.846042Z",
     "shell.execute_reply": "2021-10-26T11:26:26.846664Z",
     "shell.execute_reply.started": "2021-10-26T10:58:25.430761Z"
    },
    "papermill": {
     "duration": 0.062882,
     "end_time": "2021-10-26T11:26:26.846830",
     "exception": false,
     "start_time": "2021-10-26T11:26:26.783948",
     "status": "completed"
    },
    "tags": []
   },
   "outputs": [
    {
     "data": {
      "text/plain": [
       "0         when modi promised “minimum government maximum...\n",
       "1         talk all the nonsense and continue all the dra...\n",
       "2         what did just say vote for modi  welcome bjp t...\n",
       "3         asking his supporters prefix chowkidar their n...\n",
       "4         answer who among these the most powerful world...\n",
       "                                ...                        \n",
       "162975    why these 456 crores paid neerav modi not reco...\n",
       "162976    dear rss terrorist payal gawar what about modi...\n",
       "162977    did you cover her interaction forum where she ...\n",
       "162978    there big project came into india modi dream p...\n",
       "162979    have you ever listen about like gurukul where ...\n",
       "Name: clean_text, Length: 162980, dtype: object"
      ]
     },
     "execution_count": 71,
     "metadata": {},
     "output_type": "execute_result"
    }
   ],
   "source": [
    "df[\"clean_text\"]"
   ]
  },
  {
   "cell_type": "code",
   "execution_count": 72,
   "id": "7d4b1f74",
   "metadata": {
    "execution": {
     "iopub.execute_input": "2021-10-26T11:26:26.956526Z",
     "iopub.status.busy": "2021-10-26T11:26:26.955872Z",
     "iopub.status.idle": "2021-10-26T11:26:27.070898Z",
     "shell.execute_reply": "2021-10-26T11:26:27.071514Z",
     "shell.execute_reply.started": "2021-10-26T10:58:25.444045Z"
    },
    "papermill": {
     "duration": 0.171568,
     "end_time": "2021-10-26T11:26:27.071724",
     "exception": false,
     "start_time": "2021-10-26T11:26:26.900156",
     "status": "completed"
    },
    "tags": []
   },
   "outputs": [],
   "source": [
    "#apply string lower to each sentence\n",
    "df[\"clean_text\"] = df[\"clean_text\"].apply(to_lower)"
   ]
  },
  {
   "cell_type": "code",
   "execution_count": 73,
   "id": "2e54e0ff",
   "metadata": {
    "execution": {
     "iopub.execute_input": "2021-10-26T11:26:27.186524Z",
     "iopub.status.busy": "2021-10-26T11:26:27.185743Z",
     "iopub.status.idle": "2021-10-26T11:26:27.190018Z",
     "shell.execute_reply": "2021-10-26T11:26:27.190618Z",
     "shell.execute_reply.started": "2021-10-26T10:58:25.593531Z"
    },
    "papermill": {
     "duration": 0.06495,
     "end_time": "2021-10-26T11:26:27.190788",
     "exception": false,
     "start_time": "2021-10-26T11:26:27.125838",
     "status": "completed"
    },
    "tags": []
   },
   "outputs": [
    {
     "data": {
      "text/plain": [
       "0         when modi promised “minimum government maximum...\n",
       "1         talk all the nonsense and continue all the dra...\n",
       "2         what did just say vote for modi  welcome bjp t...\n",
       "3         asking his supporters prefix chowkidar their n...\n",
       "4         answer who among these the most powerful world...\n",
       "                                ...                        \n",
       "162975    why these 456 crores paid neerav modi not reco...\n",
       "162976    dear rss terrorist payal gawar what about modi...\n",
       "162977    did you cover her interaction forum where she ...\n",
       "162978    there big project came into india modi dream p...\n",
       "162979    have you ever listen about like gurukul where ...\n",
       "Name: clean_text, Length: 162980, dtype: object"
      ]
     },
     "execution_count": 73,
     "metadata": {},
     "output_type": "execute_result"
    }
   ],
   "source": [
    "df[\"clean_text\"]"
   ]
  },
  {
   "cell_type": "code",
   "execution_count": 74,
   "id": "f90bf895",
   "metadata": {
    "execution": {
     "iopub.execute_input": "2021-10-26T11:26:27.301047Z",
     "iopub.status.busy": "2021-10-26T11:26:27.300376Z",
     "iopub.status.idle": "2021-10-26T11:26:27.306688Z",
     "shell.execute_reply": "2021-10-26T11:26:27.307290Z",
     "shell.execute_reply.started": "2021-10-26T10:58:25.604779Z"
    },
    "papermill": {
     "duration": 0.063031,
     "end_time": "2021-10-26T11:26:27.307460",
     "exception": false,
     "start_time": "2021-10-26T11:26:27.244429",
     "status": "completed"
    },
    "tags": []
   },
   "outputs": [
    {
     "data": {
      "text/plain": [
       "15    vote such party and leadershipwho can take fas...\n",
       "16                   vote modi who has not created jobs\n",
       "17    through our vote ensure govt need and deserve ...\n",
       "18    dont play with the words was talking about the...\n",
       "19    didn’ write chowkidar does mean ’ anti modi tr...\n",
       "Name: clean_text, dtype: object"
      ]
     },
     "execution_count": 74,
     "metadata": {},
     "output_type": "execute_result"
    }
   ],
   "source": [
    "df['clean_text'][15:20]"
   ]
  },
  {
   "cell_type": "code",
   "execution_count": 75,
   "id": "76e47c08",
   "metadata": {
    "execution": {
     "iopub.execute_input": "2021-10-26T11:26:27.421111Z",
     "iopub.status.busy": "2021-10-26T11:26:27.420424Z",
     "iopub.status.idle": "2021-10-26T11:26:27.423185Z",
     "shell.execute_reply": "2021-10-26T11:26:27.422666Z",
     "shell.execute_reply.started": "2021-10-26T10:58:25.619708Z"
    },
    "papermill": {
     "duration": 0.061853,
     "end_time": "2021-10-26T11:26:27.423376",
     "exception": false,
     "start_time": "2021-10-26T11:26:27.361523",
     "status": "completed"
    },
    "tags": []
   },
   "outputs": [],
   "source": [
    "# Keep only Alphabetiic characters in dataset by using ascii tables in HEX\n",
    "def clean_data(text):     \n",
    "    result = re.sub('([^\\x61-\\x7A ])+', '', text)\n",
    "    return result  "
   ]
  },
  {
   "cell_type": "code",
   "execution_count": 76,
   "id": "5d5a80a8",
   "metadata": {
    "execution": {
     "iopub.execute_input": "2021-10-26T11:26:27.540904Z",
     "iopub.status.busy": "2021-10-26T11:26:27.538509Z",
     "iopub.status.idle": "2021-10-26T11:26:30.620070Z",
     "shell.execute_reply": "2021-10-26T11:26:30.620666Z",
     "shell.execute_reply.started": "2021-10-26T10:58:25.631666Z"
    },
    "papermill": {
     "duration": 3.141173,
     "end_time": "2021-10-26T11:26:30.620859",
     "exception": false,
     "start_time": "2021-10-26T11:26:27.479686",
     "status": "completed"
    },
    "tags": []
   },
   "outputs": [],
   "source": [
    "df[\"clean_text\"] = df[\"clean_text\"].apply(clean_data)"
   ]
  },
  {
   "cell_type": "code",
   "execution_count": 77,
   "id": "4e89586d",
   "metadata": {
    "execution": {
     "iopub.execute_input": "2021-10-26T11:26:30.738097Z",
     "iopub.status.busy": "2021-10-26T11:26:30.737398Z",
     "iopub.status.idle": "2021-10-26T11:26:30.741335Z",
     "shell.execute_reply": "2021-10-26T11:26:30.740721Z",
     "shell.execute_reply.started": "2021-10-26T10:58:28.845139Z"
    },
    "papermill": {
     "duration": 0.065261,
     "end_time": "2021-10-26T11:26:30.741475",
     "exception": false,
     "start_time": "2021-10-26T11:26:30.676214",
     "status": "completed"
    },
    "tags": []
   },
   "outputs": [
    {
     "data": {
      "text/plain": [
       "15    vote such party and leadershipwho can take fas...\n",
       "16                   vote modi who has not created jobs\n",
       "17    through our vote ensure govt need and deserve ...\n",
       "18    dont play with the words was talking about the...\n",
       "19    didn write chowkidar does mean  anti modi try ...\n",
       "Name: clean_text, dtype: object"
      ]
     },
     "execution_count": 77,
     "metadata": {},
     "output_type": "execute_result"
    }
   ],
   "source": [
    "df['clean_text'][15:20]"
   ]
  },
  {
   "cell_type": "code",
   "execution_count": 78,
   "id": "7da7af2e",
   "metadata": {
    "execution": {
     "iopub.execute_input": "2021-10-26T11:26:30.857196Z",
     "iopub.status.busy": "2021-10-26T11:26:30.856494Z",
     "iopub.status.idle": "2021-10-26T11:26:30.865201Z",
     "shell.execute_reply": "2021-10-26T11:26:30.865751Z",
     "shell.execute_reply.started": "2021-10-26T10:58:28.855727Z"
    },
    "papermill": {
     "duration": 0.06797,
     "end_time": "2021-10-26T11:26:30.865921",
     "exception": false,
     "start_time": "2021-10-26T11:26:30.797951",
     "status": "completed"
    },
    "tags": []
   },
   "outputs": [
    {
     "data": {
      "text/html": [
       "<div>\n",
       "<style scoped>\n",
       "    .dataframe tbody tr th:only-of-type {\n",
       "        vertical-align: middle;\n",
       "    }\n",
       "\n",
       "    .dataframe tbody tr th {\n",
       "        vertical-align: top;\n",
       "    }\n",
       "\n",
       "    .dataframe thead th {\n",
       "        text-align: right;\n",
       "    }\n",
       "</style>\n",
       "<table border=\"1\" class=\"dataframe\">\n",
       "  <thead>\n",
       "    <tr style=\"text-align: right;\">\n",
       "      <th></th>\n",
       "      <th>clean_text</th>\n",
       "      <th>category</th>\n",
       "    </tr>\n",
       "  </thead>\n",
       "  <tbody>\n",
       "    <tr>\n",
       "      <th>0</th>\n",
       "      <td>when modi promised minimum government maximum ...</td>\n",
       "      <td>-1.0</td>\n",
       "    </tr>\n",
       "    <tr>\n",
       "      <th>1</th>\n",
       "      <td>talk all the nonsense and continue all the dra...</td>\n",
       "      <td>0.0</td>\n",
       "    </tr>\n",
       "    <tr>\n",
       "      <th>2</th>\n",
       "      <td>what did just say vote for modi  welcome bjp t...</td>\n",
       "      <td>1.0</td>\n",
       "    </tr>\n",
       "    <tr>\n",
       "      <th>3</th>\n",
       "      <td>asking his supporters prefix chowkidar their n...</td>\n",
       "      <td>1.0</td>\n",
       "    </tr>\n",
       "    <tr>\n",
       "      <th>4</th>\n",
       "      <td>answer who among these the most powerful world...</td>\n",
       "      <td>1.0</td>\n",
       "    </tr>\n",
       "  </tbody>\n",
       "</table>\n",
       "</div>"
      ],
      "text/plain": [
       "                                          clean_text  category\n",
       "0  when modi promised minimum government maximum ...      -1.0\n",
       "1  talk all the nonsense and continue all the dra...       0.0\n",
       "2  what did just say vote for modi  welcome bjp t...       1.0\n",
       "3  asking his supporters prefix chowkidar their n...       1.0\n",
       "4  answer who among these the most powerful world...       1.0"
      ]
     },
     "execution_count": 78,
     "metadata": {},
     "output_type": "execute_result"
    }
   ],
   "source": [
    "df.head()"
   ]
  },
  {
   "cell_type": "code",
   "execution_count": 79,
   "id": "f810e6be",
   "metadata": {
    "execution": {
     "iopub.execute_input": "2021-10-26T11:26:30.981038Z",
     "iopub.status.busy": "2021-10-26T11:26:30.980322Z",
     "iopub.status.idle": "2021-10-26T11:26:30.984023Z",
     "shell.execute_reply": "2021-10-26T11:26:30.983512Z",
     "shell.execute_reply.started": "2021-10-26T10:58:28.873992Z"
    },
    "papermill": {
     "duration": 0.063342,
     "end_time": "2021-10-26T11:26:30.984162",
     "exception": false,
     "start_time": "2021-10-26T11:26:30.920820",
     "status": "completed"
    },
    "tags": []
   },
   "outputs": [
    {
     "data": {
      "text/plain": [
       "'didn write chowkidar does mean  anti modi try visit the plz not all who haven used are anti '"
      ]
     },
     "execution_count": 79,
     "metadata": {},
     "output_type": "execute_result"
    }
   ],
   "source": [
    "df.iloc[19].clean_text"
   ]
  },
  {
   "cell_type": "code",
   "execution_count": 80,
   "id": "e8a208db",
   "metadata": {
    "execution": {
     "iopub.execute_input": "2021-10-26T11:26:31.100426Z",
     "iopub.status.busy": "2021-10-26T11:26:31.099720Z",
     "iopub.status.idle": "2021-10-26T11:26:32.759842Z",
     "shell.execute_reply": "2021-10-26T11:26:32.760355Z",
     "shell.execute_reply.started": "2021-10-26T10:58:28.882382Z"
    },
    "papermill": {
     "duration": 1.720316,
     "end_time": "2021-10-26T11:26:32.760547",
     "exception": false,
     "start_time": "2021-10-26T11:26:31.040231",
     "status": "completed"
    },
    "tags": []
   },
   "outputs": [],
   "source": [
    "#import Natural language Toolkit library\n",
    "import nltk"
   ]
  },
  {
   "cell_type": "code",
   "execution_count": 81,
   "id": "777385fb",
   "metadata": {
    "execution": {
     "iopub.execute_input": "2021-10-26T11:26:32.882062Z",
     "iopub.status.busy": "2021-10-26T11:26:32.881365Z",
     "iopub.status.idle": "2021-10-26T11:26:32.884297Z",
     "shell.execute_reply": "2021-10-26T11:26:32.884789Z",
     "shell.execute_reply.started": "2021-10-26T10:58:30.738913Z"
    },
    "papermill": {
     "duration": 0.065481,
     "end_time": "2021-10-26T11:26:32.884973",
     "exception": false,
     "start_time": "2021-10-26T11:26:32.819492",
     "status": "completed"
    },
    "tags": []
   },
   "outputs": [],
   "source": [
    "#Remove stopwords like \"a\",\"the\",\"an\" which can be ignored\n",
    "from nltk.corpus import stopwords"
   ]
  },
  {
   "cell_type": "code",
   "execution_count": 82,
   "id": "5edb1683",
   "metadata": {
    "execution": {
     "iopub.execute_input": "2021-10-26T11:26:32.999285Z",
     "iopub.status.busy": "2021-10-26T11:26:32.998514Z",
     "iopub.status.idle": "2021-10-26T11:26:33.002581Z",
     "shell.execute_reply": "2021-10-26T11:26:33.003087Z",
     "shell.execute_reply.started": "2021-10-26T10:58:30.746815Z"
    },
    "papermill": {
     "duration": 0.063237,
     "end_time": "2021-10-26T11:26:33.003271",
     "exception": false,
     "start_time": "2021-10-26T11:26:32.940034",
     "status": "completed"
    },
    "tags": []
   },
   "outputs": [],
   "source": [
    "#split the sentence and check if stopwords present in it, if not stop word then append it to another temp list till. \n",
    "#And clear the temp list after use\n",
    "stopwords = set((stopwords.words('english')))\n",
    "def remove_stopwords(text):\n",
    "    temp = []\n",
    "    for i in text.split():        \n",
    "        if i not in stopwords:\n",
    "            temp.append(i)            \n",
    "    result = temp[:]\n",
    "    temp.clear()\n",
    "    return result"
   ]
  },
  {
   "cell_type": "code",
   "execution_count": 83,
   "id": "3fedc357",
   "metadata": {
    "execution": {
     "iopub.execute_input": "2021-10-26T11:26:33.118026Z",
     "iopub.status.busy": "2021-10-26T11:26:33.117040Z",
     "iopub.status.idle": "2021-10-26T11:33:25.606697Z",
     "shell.execute_reply": "2021-10-26T11:33:25.606019Z",
     "shell.execute_reply.started": "2021-10-26T10:58:30.759394Z"
    },
    "papermill": {
     "duration": 412.547821,
     "end_time": "2021-10-26T11:33:25.606883",
     "exception": false,
     "start_time": "2021-10-26T11:26:33.059062",
     "status": "completed"
    },
    "tags": []
   },
   "outputs": [],
   "source": [
    "#apply remove stop words function\n",
    "df[\"clean_text\"] = df[\"clean_text\"].apply(remove_stopwords)"
   ]
  },
  {
   "cell_type": "code",
   "execution_count": 84,
   "id": "89c4f2d8",
   "metadata": {
    "execution": {
     "iopub.execute_input": "2021-10-26T11:33:25.728696Z",
     "iopub.status.busy": "2021-10-26T11:33:25.727858Z",
     "iopub.status.idle": "2021-10-26T11:33:25.735495Z",
     "shell.execute_reply": "2021-10-26T11:33:25.736004Z",
     "shell.execute_reply.started": "2021-10-26T11:05:24.902354Z"
    },
    "papermill": {
     "duration": 0.073715,
     "end_time": "2021-10-26T11:33:25.736191",
     "exception": false,
     "start_time": "2021-10-26T11:33:25.662476",
     "status": "completed"
    },
    "tags": []
   },
   "outputs": [
    {
     "data": {
      "text/html": [
       "<div>\n",
       "<style scoped>\n",
       "    .dataframe tbody tr th:only-of-type {\n",
       "        vertical-align: middle;\n",
       "    }\n",
       "\n",
       "    .dataframe tbody tr th {\n",
       "        vertical-align: top;\n",
       "    }\n",
       "\n",
       "    .dataframe thead th {\n",
       "        text-align: right;\n",
       "    }\n",
       "</style>\n",
       "<table border=\"1\" class=\"dataframe\">\n",
       "  <thead>\n",
       "    <tr style=\"text-align: right;\">\n",
       "      <th></th>\n",
       "      <th>clean_text</th>\n",
       "      <th>category</th>\n",
       "    </tr>\n",
       "  </thead>\n",
       "  <tbody>\n",
       "    <tr>\n",
       "      <th>0</th>\n",
       "      <td>[modi, promised, minimum, government, maximum,...</td>\n",
       "      <td>-1.0</td>\n",
       "    </tr>\n",
       "    <tr>\n",
       "      <th>1</th>\n",
       "      <td>[talk, nonsense, continue, drama, vote, modi]</td>\n",
       "      <td>0.0</td>\n",
       "    </tr>\n",
       "    <tr>\n",
       "      <th>2</th>\n",
       "      <td>[say, vote, modi, welcome, bjp, told, rahul, m...</td>\n",
       "      <td>1.0</td>\n",
       "    </tr>\n",
       "    <tr>\n",
       "      <th>3</th>\n",
       "      <td>[asking, supporters, prefix, chowkidar, names,...</td>\n",
       "      <td>1.0</td>\n",
       "    </tr>\n",
       "    <tr>\n",
       "      <th>4</th>\n",
       "      <td>[answer, among, powerful, world, leader, today...</td>\n",
       "      <td>1.0</td>\n",
       "    </tr>\n",
       "  </tbody>\n",
       "</table>\n",
       "</div>"
      ],
      "text/plain": [
       "                                          clean_text  category\n",
       "0  [modi, promised, minimum, government, maximum,...      -1.0\n",
       "1      [talk, nonsense, continue, drama, vote, modi]       0.0\n",
       "2  [say, vote, modi, welcome, bjp, told, rahul, m...       1.0\n",
       "3  [asking, supporters, prefix, chowkidar, names,...       1.0\n",
       "4  [answer, among, powerful, world, leader, today...       1.0"
      ]
     },
     "execution_count": 84,
     "metadata": {},
     "output_type": "execute_result"
    }
   ],
   "source": [
    "df.head()"
   ]
  },
  {
   "cell_type": "code",
   "execution_count": 85,
   "id": "b830c58f",
   "metadata": {
    "execution": {
     "iopub.execute_input": "2021-10-26T11:33:25.850810Z",
     "iopub.status.busy": "2021-10-26T11:33:25.850172Z",
     "iopub.status.idle": "2021-10-26T11:33:25.854500Z",
     "shell.execute_reply": "2021-10-26T11:33:25.853982Z",
     "shell.execute_reply.started": "2021-10-26T11:05:24.920031Z"
    },
    "papermill": {
     "duration": 0.062731,
     "end_time": "2021-10-26T11:33:25.854659",
     "exception": false,
     "start_time": "2021-10-26T11:33:25.791928",
     "status": "completed"
    },
    "tags": []
   },
   "outputs": [],
   "source": [
    "#import library for stemming\n",
    "from nltk.stem.porter import PorterStemmer\n",
    "from nltk.tokenize import word_tokenize\n",
    "ps = PorterStemmer()\n",
    "\n"
   ]
  },
  {
   "cell_type": "code",
   "execution_count": 86,
   "id": "7d0542f9",
   "metadata": {
    "execution": {
     "iopub.execute_input": "2021-10-26T11:33:25.973328Z",
     "iopub.status.busy": "2021-10-26T11:33:25.972656Z",
     "iopub.status.idle": "2021-10-26T11:33:25.974150Z",
     "shell.execute_reply": "2021-10-26T11:33:25.974717Z",
     "shell.execute_reply.started": "2021-10-26T11:05:24.935103Z"
    },
    "papermill": {
     "duration": 0.064028,
     "end_time": "2021-10-26T11:33:25.974886",
     "exception": false,
     "start_time": "2021-10-26T11:33:25.910858",
     "status": "completed"
    },
    "tags": []
   },
   "outputs": [],
   "source": [
    "#the words like \"asked\", \"asking\", \"ask\" will be stem to \"ask\" only\n",
    "def stem_words(text):\n",
    "    result = []\n",
    "    for i in text:\n",
    "        result.append(ps.stem(i))       \n",
    "    return result\n",
    "    "
   ]
  },
  {
   "cell_type": "code",
   "execution_count": 87,
   "id": "d58edb88",
   "metadata": {
    "execution": {
     "iopub.execute_input": "2021-10-26T11:33:26.090602Z",
     "iopub.status.busy": "2021-10-26T11:33:26.089931Z",
     "iopub.status.idle": "2021-10-26T11:33:26.098701Z",
     "shell.execute_reply": "2021-10-26T11:33:26.099222Z",
     "shell.execute_reply.started": "2021-10-26T11:05:24.951162Z"
    },
    "papermill": {
     "duration": 0.067891,
     "end_time": "2021-10-26T11:33:26.099388",
     "exception": false,
     "start_time": "2021-10-26T11:33:26.031497",
     "status": "completed"
    },
    "tags": []
   },
   "outputs": [
    {
     "data": {
      "text/plain": [
       "0         [modi, promised, minimum, government, maximum,...\n",
       "1             [talk, nonsense, continue, drama, vote, modi]\n",
       "2         [say, vote, modi, welcome, bjp, told, rahul, m...\n",
       "3         [asking, supporters, prefix, chowkidar, names,...\n",
       "4         [answer, among, powerful, world, leader, today...\n",
       "                                ...                        \n",
       "162975    [crores, paid, neerav, modi, recovered, congre...\n",
       "162976    [dear, rss, terrorist, payal, gawar, modi, kil...\n",
       "162977                    [cover, interaction, forum, left]\n",
       "162978    [big, project, came, india, modi, dream, proje...\n",
       "162979    [ever, listen, like, gurukul, discipline, main...\n",
       "Name: clean_text, Length: 162980, dtype: object"
      ]
     },
     "execution_count": 87,
     "metadata": {},
     "output_type": "execute_result"
    }
   ],
   "source": [
    "df[\"clean_text\"]"
   ]
  },
  {
   "cell_type": "code",
   "execution_count": 88,
   "id": "8d9b3298",
   "metadata": {
    "execution": {
     "iopub.execute_input": "2021-10-26T11:33:26.215514Z",
     "iopub.status.busy": "2021-10-26T11:33:26.214872Z",
     "iopub.status.idle": "2021-10-26T11:34:38.935061Z",
     "shell.execute_reply": "2021-10-26T11:34:38.934414Z",
     "shell.execute_reply.started": "2021-10-26T11:05:24.973282Z"
    },
    "papermill": {
     "duration": 72.779202,
     "end_time": "2021-10-26T11:34:38.935234",
     "exception": false,
     "start_time": "2021-10-26T11:33:26.156032",
     "status": "completed"
    },
    "tags": []
   },
   "outputs": [],
   "source": [
    "df[\"clean_text\"] = df[\"clean_text\"].apply(stem_words)"
   ]
  },
  {
   "cell_type": "code",
   "execution_count": 89,
   "id": "fb2d8ee1",
   "metadata": {
    "execution": {
     "iopub.execute_input": "2021-10-26T11:34:39.061055Z",
     "iopub.status.busy": "2021-10-26T11:34:39.060350Z",
     "iopub.status.idle": "2021-10-26T11:34:39.062947Z",
     "shell.execute_reply": "2021-10-26T11:34:39.063442Z",
     "shell.execute_reply.started": "2021-10-26T11:06:39.545182Z"
    },
    "papermill": {
     "duration": 0.071562,
     "end_time": "2021-10-26T11:34:39.063627",
     "exception": false,
     "start_time": "2021-10-26T11:34:38.992065",
     "status": "completed"
    },
    "tags": []
   },
   "outputs": [
    {
     "data": {
      "text/html": [
       "<div>\n",
       "<style scoped>\n",
       "    .dataframe tbody tr th:only-of-type {\n",
       "        vertical-align: middle;\n",
       "    }\n",
       "\n",
       "    .dataframe tbody tr th {\n",
       "        vertical-align: top;\n",
       "    }\n",
       "\n",
       "    .dataframe thead th {\n",
       "        text-align: right;\n",
       "    }\n",
       "</style>\n",
       "<table border=\"1\" class=\"dataframe\">\n",
       "  <thead>\n",
       "    <tr style=\"text-align: right;\">\n",
       "      <th></th>\n",
       "      <th>clean_text</th>\n",
       "      <th>category</th>\n",
       "    </tr>\n",
       "  </thead>\n",
       "  <tbody>\n",
       "    <tr>\n",
       "      <th>0</th>\n",
       "      <td>[modi, promis, minimum, govern, maximum, gover...</td>\n",
       "      <td>-1.0</td>\n",
       "    </tr>\n",
       "    <tr>\n",
       "      <th>1</th>\n",
       "      <td>[talk, nonsens, continu, drama, vote, modi]</td>\n",
       "      <td>0.0</td>\n",
       "    </tr>\n",
       "    <tr>\n",
       "      <th>2</th>\n",
       "      <td>[say, vote, modi, welcom, bjp, told, rahul, ma...</td>\n",
       "      <td>1.0</td>\n",
       "    </tr>\n",
       "    <tr>\n",
       "      <th>3</th>\n",
       "      <td>[ask, support, prefix, chowkidar, name, modi, ...</td>\n",
       "      <td>1.0</td>\n",
       "    </tr>\n",
       "    <tr>\n",
       "      <th>4</th>\n",
       "      <td>[answer, among, power, world, leader, today, t...</td>\n",
       "      <td>1.0</td>\n",
       "    </tr>\n",
       "  </tbody>\n",
       "</table>\n",
       "</div>"
      ],
      "text/plain": [
       "                                          clean_text  category\n",
       "0  [modi, promis, minimum, govern, maximum, gover...      -1.0\n",
       "1        [talk, nonsens, continu, drama, vote, modi]       0.0\n",
       "2  [say, vote, modi, welcom, bjp, told, rahul, ma...       1.0\n",
       "3  [ask, support, prefix, chowkidar, name, modi, ...       1.0\n",
       "4  [answer, among, power, world, leader, today, t...       1.0"
      ]
     },
     "execution_count": 89,
     "metadata": {},
     "output_type": "execute_result"
    }
   ],
   "source": [
    "#asking has been converted into \"ask\" on line 3\n",
    "df.head()\n"
   ]
  },
  {
   "cell_type": "code",
   "execution_count": 90,
   "id": "b14887d3",
   "metadata": {
    "execution": {
     "iopub.execute_input": "2021-10-26T11:34:39.179932Z",
     "iopub.status.busy": "2021-10-26T11:34:39.179259Z",
     "iopub.status.idle": "2021-10-26T11:34:39.182356Z",
     "shell.execute_reply": "2021-10-26T11:34:39.182871Z",
     "shell.execute_reply.started": "2021-10-26T11:06:39.568666Z"
    },
    "papermill": {
     "duration": 0.063339,
     "end_time": "2021-10-26T11:34:39.183059",
     "exception": false,
     "start_time": "2021-10-26T11:34:39.119720",
     "status": "completed"
    },
    "tags": []
   },
   "outputs": [],
   "source": [
    "#Now again join words present into list to the sentence\n",
    "def list_to_sentence(wl):\n",
    "    return \" \".join(wl)"
   ]
  },
  {
   "cell_type": "code",
   "execution_count": 91,
   "id": "82a133f3",
   "metadata": {
    "execution": {
     "iopub.execute_input": "2021-10-26T11:34:39.299243Z",
     "iopub.status.busy": "2021-10-26T11:34:39.298597Z",
     "iopub.status.idle": "2021-10-26T11:34:39.512776Z",
     "shell.execute_reply": "2021-10-26T11:34:39.512115Z",
     "shell.execute_reply.started": "2021-10-26T11:06:39.576513Z"
    },
    "papermill": {
     "duration": 0.273261,
     "end_time": "2021-10-26T11:34:39.512933",
     "exception": false,
     "start_time": "2021-10-26T11:34:39.239672",
     "status": "completed"
    },
    "tags": []
   },
   "outputs": [],
   "source": [
    "#apply stem function\n",
    "df[\"clean_text\"] = df[\"clean_text\"].apply(list_to_sentence)"
   ]
  },
  {
   "cell_type": "code",
   "execution_count": 92,
   "id": "83228b78",
   "metadata": {
    "execution": {
     "iopub.execute_input": "2021-10-26T11:34:39.629471Z",
     "iopub.status.busy": "2021-10-26T11:34:39.628812Z",
     "iopub.status.idle": "2021-10-26T11:34:39.637271Z",
     "shell.execute_reply": "2021-10-26T11:34:39.637917Z",
     "shell.execute_reply.started": "2021-10-26T11:06:39.849629Z"
    },
    "papermill": {
     "duration": 0.068113,
     "end_time": "2021-10-26T11:34:39.638105",
     "exception": false,
     "start_time": "2021-10-26T11:34:39.569992",
     "status": "completed"
    },
    "tags": []
   },
   "outputs": [
    {
     "data": {
      "text/html": [
       "<div>\n",
       "<style scoped>\n",
       "    .dataframe tbody tr th:only-of-type {\n",
       "        vertical-align: middle;\n",
       "    }\n",
       "\n",
       "    .dataframe tbody tr th {\n",
       "        vertical-align: top;\n",
       "    }\n",
       "\n",
       "    .dataframe thead th {\n",
       "        text-align: right;\n",
       "    }\n",
       "</style>\n",
       "<table border=\"1\" class=\"dataframe\">\n",
       "  <thead>\n",
       "    <tr style=\"text-align: right;\">\n",
       "      <th></th>\n",
       "      <th>clean_text</th>\n",
       "      <th>category</th>\n",
       "    </tr>\n",
       "  </thead>\n",
       "  <tbody>\n",
       "    <tr>\n",
       "      <th>0</th>\n",
       "      <td>modi promis minimum govern maximum govern expe...</td>\n",
       "      <td>-1.0</td>\n",
       "    </tr>\n",
       "    <tr>\n",
       "      <th>1</th>\n",
       "      <td>talk nonsens continu drama vote modi</td>\n",
       "      <td>0.0</td>\n",
       "    </tr>\n",
       "    <tr>\n",
       "      <th>2</th>\n",
       "      <td>say vote modi welcom bjp told rahul main campa...</td>\n",
       "      <td>1.0</td>\n",
       "    </tr>\n",
       "    <tr>\n",
       "      <th>3</th>\n",
       "      <td>ask support prefix chowkidar name modi great s...</td>\n",
       "      <td>1.0</td>\n",
       "    </tr>\n",
       "    <tr>\n",
       "      <th>4</th>\n",
       "      <td>answer among power world leader today trump pu...</td>\n",
       "      <td>1.0</td>\n",
       "    </tr>\n",
       "  </tbody>\n",
       "</table>\n",
       "</div>"
      ],
      "text/plain": [
       "                                          clean_text  category\n",
       "0  modi promis minimum govern maximum govern expe...      -1.0\n",
       "1               talk nonsens continu drama vote modi       0.0\n",
       "2  say vote modi welcom bjp told rahul main campa...       1.0\n",
       "3  ask support prefix chowkidar name modi great s...       1.0\n",
       "4  answer among power world leader today trump pu...       1.0"
      ]
     },
     "execution_count": 92,
     "metadata": {},
     "output_type": "execute_result"
    }
   ],
   "source": [
    "df.head()"
   ]
  },
  {
   "cell_type": "code",
   "execution_count": 93,
   "id": "5cefd275",
   "metadata": {
    "execution": {
     "iopub.execute_input": "2021-10-26T11:34:39.758645Z",
     "iopub.status.busy": "2021-10-26T11:34:39.757814Z",
     "iopub.status.idle": "2021-10-26T11:34:39.760668Z",
     "shell.execute_reply": "2021-10-26T11:34:39.760134Z",
     "shell.execute_reply.started": "2021-10-26T11:06:39.863927Z"
    },
    "papermill": {
     "duration": 0.065819,
     "end_time": "2021-10-26T11:34:39.760836",
     "exception": false,
     "start_time": "2021-10-26T11:34:39.695017",
     "status": "completed"
    },
    "tags": []
   },
   "outputs": [],
   "source": [
    "#convert all data into columns in such a way that\n",
    "#words will be the column and row will be the frequency of that word\n",
    "#and last column will be the category\n",
    "#for this import CountVectorizer\n",
    "from sklearn.feature_extraction.text import CountVectorizer\n",
    "cv = CountVectorizer(max_features=500)#most used 500 words"
   ]
  },
  {
   "cell_type": "code",
   "execution_count": 94,
   "id": "cf9c04d3",
   "metadata": {
    "execution": {
     "iopub.execute_input": "2021-10-26T11:34:39.903021Z",
     "iopub.status.busy": "2021-10-26T11:34:39.901985Z",
     "iopub.status.idle": "2021-10-26T11:34:44.169267Z",
     "shell.execute_reply": "2021-10-26T11:34:44.168686Z",
     "shell.execute_reply.started": "2021-10-26T11:06:39.876682Z"
    },
    "papermill": {
     "duration": 4.343978,
     "end_time": "2021-10-26T11:34:44.169417",
     "exception": false,
     "start_time": "2021-10-26T11:34:39.825439",
     "status": "completed"
    },
    "tags": []
   },
   "outputs": [],
   "source": [
    "X = cv.fit_transform(df['clean_text']).toarray()"
   ]
  },
  {
   "cell_type": "code",
   "execution_count": 95,
   "id": "395d5d45",
   "metadata": {
    "execution": {
     "iopub.execute_input": "2021-10-26T11:34:44.289256Z",
     "iopub.status.busy": "2021-10-26T11:34:44.288403Z",
     "iopub.status.idle": "2021-10-26T11:34:44.291613Z",
     "shell.execute_reply": "2021-10-26T11:34:44.292118Z",
     "shell.execute_reply.started": "2021-10-26T11:06:45.077007Z"
    },
    "papermill": {
     "duration": 0.065262,
     "end_time": "2021-10-26T11:34:44.292292",
     "exception": false,
     "start_time": "2021-10-26T11:34:44.227030",
     "status": "completed"
    },
    "tags": []
   },
   "outputs": [
    {
     "data": {
      "text/plain": [
       "(162980, 500)"
      ]
     },
     "execution_count": 95,
     "metadata": {},
     "output_type": "execute_result"
    }
   ],
   "source": [
    "#we have 162980 sentences with words 97041\n",
    "X.shape"
   ]
  },
  {
   "attachments": {},
   "cell_type": "markdown",
   "id": "058d2213",
   "metadata": {
    "papermill": {
     "duration": 0.0567,
     "end_time": "2021-10-26T11:34:44.406050",
     "exception": false,
     "start_time": "2021-10-26T11:34:44.349350",
     "status": "completed"
    },
    "tags": []
   },
   "source": [
    "Clean category column having float values"
   ]
  },
  {
   "cell_type": "code",
   "execution_count": 96,
   "id": "a20fcacb",
   "metadata": {
    "execution": {
     "iopub.execute_input": "2021-10-26T11:34:44.524173Z",
     "iopub.status.busy": "2021-10-26T11:34:44.523486Z",
     "iopub.status.idle": "2021-10-26T11:34:44.530149Z",
     "shell.execute_reply": "2021-10-26T11:34:44.530665Z",
     "shell.execute_reply.started": "2021-10-26T11:06:45.086089Z"
    },
    "papermill": {
     "duration": 0.067198,
     "end_time": "2021-10-26T11:34:44.530843",
     "exception": false,
     "start_time": "2021-10-26T11:34:44.463645",
     "status": "completed"
    },
    "tags": []
   },
   "outputs": [
    {
     "data": {
      "text/plain": [
       "0        -1.0\n",
       "1         0.0\n",
       "2         1.0\n",
       "3         1.0\n",
       "4         1.0\n",
       "         ... \n",
       "162975   -1.0\n",
       "162976   -1.0\n",
       "162977    0.0\n",
       "162978    0.0\n",
       "162979    1.0\n",
       "Name: category, Length: 162980, dtype: float64"
      ]
     },
     "execution_count": 96,
     "metadata": {},
     "output_type": "execute_result"
    }
   ],
   "source": [
    "df.iloc[:,-1]"
   ]
  },
  {
   "cell_type": "code",
   "execution_count": 97,
   "id": "d4d81402",
   "metadata": {
    "execution": {
     "iopub.execute_input": "2021-10-26T11:34:44.654391Z",
     "iopub.status.busy": "2021-10-26T11:34:44.653632Z",
     "iopub.status.idle": "2021-10-26T11:34:44.656219Z",
     "shell.execute_reply": "2021-10-26T11:34:44.656732Z",
     "shell.execute_reply.started": "2021-10-26T11:06:45.107127Z"
    },
    "papermill": {
     "duration": 0.067953,
     "end_time": "2021-10-26T11:34:44.656896",
     "exception": false,
     "start_time": "2021-10-26T11:34:44.588943",
     "status": "completed"
    },
    "tags": []
   },
   "outputs": [
    {
     "data": {
      "text/plain": [
       "0        -1.0\n",
       "1         0.0\n",
       "2         1.0\n",
       "3         1.0\n",
       "4         1.0\n",
       "         ... \n",
       "162975   -1.0\n",
       "162976   -1.0\n",
       "162977    0.0\n",
       "162978    0.0\n",
       "162979    1.0\n",
       "Name: category, Length: 162980, dtype: float64"
      ]
     },
     "execution_count": 97,
     "metadata": {},
     "output_type": "execute_result"
    }
   ],
   "source": [
    "df[\"category\"]"
   ]
  },
  {
   "cell_type": "code",
   "execution_count": 98,
   "id": "c6cdfbaf",
   "metadata": {
    "execution": {
     "iopub.execute_input": "2021-10-26T11:34:44.780440Z",
     "iopub.status.busy": "2021-10-26T11:34:44.779749Z",
     "iopub.status.idle": "2021-10-26T11:34:44.783288Z",
     "shell.execute_reply": "2021-10-26T11:34:44.783899Z",
     "shell.execute_reply.started": "2021-10-26T11:06:45.122742Z"
    },
    "papermill": {
     "duration": 0.069239,
     "end_time": "2021-10-26T11:34:44.784076",
     "exception": false,
     "start_time": "2021-10-26T11:34:44.714837",
     "status": "completed"
    },
    "tags": []
   },
   "outputs": [
    {
     "data": {
      "text/plain": [
       "7"
      ]
     },
     "execution_count": 98,
     "metadata": {},
     "output_type": "execute_result"
    }
   ],
   "source": [
    "df[\"category\"].isna().sum()"
   ]
  },
  {
   "cell_type": "code",
   "execution_count": 99,
   "id": "0d6c312f",
   "metadata": {
    "execution": {
     "iopub.execute_input": "2021-10-26T11:34:44.924743Z",
     "iopub.status.busy": "2021-10-26T11:34:44.923997Z",
     "iopub.status.idle": "2021-10-26T11:34:44.929759Z",
     "shell.execute_reply": "2021-10-26T11:34:44.930221Z",
     "shell.execute_reply.started": "2021-10-26T11:06:45.135968Z"
    },
    "papermill": {
     "duration": 0.088274,
     "end_time": "2021-10-26T11:34:44.930397",
     "exception": false,
     "start_time": "2021-10-26T11:34:44.842123",
     "status": "completed"
    },
    "tags": []
   },
   "outputs": [
    {
     "data": {
      "text/plain": [
       "clean_text    0\n",
       "category      7\n",
       "dtype: int64"
      ]
     },
     "execution_count": 99,
     "metadata": {},
     "output_type": "execute_result"
    }
   ],
   "source": [
    "df.isnull().sum()"
   ]
  },
  {
   "cell_type": "code",
   "execution_count": 100,
   "id": "cb3beee3",
   "metadata": {
    "execution": {
     "iopub.execute_input": "2021-10-26T11:34:45.055231Z",
     "iopub.status.busy": "2021-10-26T11:34:45.054195Z",
     "iopub.status.idle": "2021-10-26T11:34:45.059056Z",
     "shell.execute_reply": "2021-10-26T11:34:45.059514Z",
     "shell.execute_reply.started": "2021-10-26T11:06:45.173361Z"
    },
    "papermill": {
     "duration": 0.070409,
     "end_time": "2021-10-26T11:34:45.059706",
     "exception": false,
     "start_time": "2021-10-26T11:34:44.989297",
     "status": "completed"
    },
    "tags": []
   },
   "outputs": [
    {
     "data": {
      "text/plain": [
       "7"
      ]
     },
     "execution_count": 100,
     "metadata": {},
     "output_type": "execute_result"
    }
   ],
   "source": [
    "df[\"category\"].isna().sum()"
   ]
  },
  {
   "cell_type": "code",
   "execution_count": 101,
   "id": "738c393d",
   "metadata": {
    "execution": {
     "iopub.execute_input": "2021-10-26T11:34:45.184476Z",
     "iopub.status.busy": "2021-10-26T11:34:45.182233Z",
     "iopub.status.idle": "2021-10-26T11:34:45.187951Z",
     "shell.execute_reply": "2021-10-26T11:34:45.188488Z",
     "shell.execute_reply.started": "2021-10-26T11:06:45.182500Z"
    },
    "papermill": {
     "duration": 0.06935,
     "end_time": "2021-10-26T11:34:45.188694",
     "exception": false,
     "start_time": "2021-10-26T11:34:45.119344",
     "status": "completed"
    },
    "tags": []
   },
   "outputs": [],
   "source": [
    "df[\"category\"] = df[\"category\"].replace(np.nan, 0)"
   ]
  },
  {
   "cell_type": "code",
   "execution_count": 102,
   "id": "905ea6e6",
   "metadata": {
    "execution": {
     "iopub.execute_input": "2021-10-26T11:34:45.312651Z",
     "iopub.status.busy": "2021-10-26T11:34:45.311922Z",
     "iopub.status.idle": "2021-10-26T11:34:45.315175Z",
     "shell.execute_reply": "2021-10-26T11:34:45.315684Z",
     "shell.execute_reply.started": "2021-10-26T11:06:45.194794Z"
    },
    "papermill": {
     "duration": 0.068479,
     "end_time": "2021-10-26T11:34:45.315854",
     "exception": false,
     "start_time": "2021-10-26T11:34:45.247375",
     "status": "completed"
    },
    "tags": []
   },
   "outputs": [
    {
     "data": {
      "text/plain": [
       "0"
      ]
     },
     "execution_count": 102,
     "metadata": {},
     "output_type": "execute_result"
    }
   ],
   "source": [
    "df[\"category\"].isna().sum()"
   ]
  },
  {
   "cell_type": "code",
   "execution_count": 103,
   "id": "1b259a3c",
   "metadata": {
    "execution": {
     "iopub.execute_input": "2021-10-26T11:34:45.438948Z",
     "iopub.status.busy": "2021-10-26T11:34:45.438234Z",
     "iopub.status.idle": "2021-10-26T11:34:45.440103Z",
     "shell.execute_reply": "2021-10-26T11:34:45.440601Z",
     "shell.execute_reply.started": "2021-10-26T11:06:45.210482Z"
    },
    "papermill": {
     "duration": 0.06618,
     "end_time": "2021-10-26T11:34:45.440788",
     "exception": false,
     "start_time": "2021-10-26T11:34:45.374608",
     "status": "completed"
    },
    "tags": []
   },
   "outputs": [],
   "source": [
    "#convert to integer\n",
    "def float_to_int(a):\n",
    "    return int(a)"
   ]
  },
  {
   "cell_type": "code",
   "execution_count": 104,
   "id": "a49ccb85",
   "metadata": {
    "execution": {
     "iopub.execute_input": "2021-10-26T11:34:45.569318Z",
     "iopub.status.busy": "2021-10-26T11:34:45.563650Z",
     "iopub.status.idle": "2021-10-26T11:34:45.683248Z",
     "shell.execute_reply": "2021-10-26T11:34:45.682603Z",
     "shell.execute_reply.started": "2021-10-26T11:06:45.221537Z"
    },
    "papermill": {
     "duration": 0.183344,
     "end_time": "2021-10-26T11:34:45.683402",
     "exception": false,
     "start_time": "2021-10-26T11:34:45.500058",
     "status": "completed"
    },
    "tags": []
   },
   "outputs": [],
   "source": [
    "df[\"category\"] = df[\"category\"].apply(float_to_int)"
   ]
  },
  {
   "cell_type": "code",
   "execution_count": 105,
   "id": "c934b32c",
   "metadata": {
    "execution": {
     "iopub.execute_input": "2021-10-26T11:34:45.806442Z",
     "iopub.status.busy": "2021-10-26T11:34:45.805816Z",
     "iopub.status.idle": "2021-10-26T11:34:45.812184Z",
     "shell.execute_reply": "2021-10-26T11:34:45.812820Z",
     "shell.execute_reply.started": "2021-10-26T11:06:45.358437Z"
    },
    "papermill": {
     "duration": 0.069533,
     "end_time": "2021-10-26T11:34:45.812998",
     "exception": false,
     "start_time": "2021-10-26T11:34:45.743465",
     "status": "completed"
    },
    "tags": []
   },
   "outputs": [
    {
     "data": {
      "text/plain": [
       "0        -1\n",
       "1         0\n",
       "2         1\n",
       "3         1\n",
       "4         1\n",
       "         ..\n",
       "162975   -1\n",
       "162976   -1\n",
       "162977    0\n",
       "162978    0\n",
       "162979    1\n",
       "Name: category, Length: 162980, dtype: int64"
      ]
     },
     "execution_count": 105,
     "metadata": {},
     "output_type": "execute_result"
    }
   ],
   "source": [
    "df[\"category\"]"
   ]
  },
  {
   "cell_type": "code",
   "execution_count": 106,
   "id": "af3bb9f5",
   "metadata": {
    "execution": {
     "iopub.execute_input": "2021-10-26T11:34:45.936077Z",
     "iopub.status.busy": "2021-10-26T11:34:45.935393Z",
     "iopub.status.idle": "2021-10-26T11:34:45.939076Z",
     "shell.execute_reply": "2021-10-26T11:34:45.939655Z",
     "shell.execute_reply.started": "2021-10-26T11:06:45.369738Z"
    },
    "papermill": {
     "duration": 0.066078,
     "end_time": "2021-10-26T11:34:45.939823",
     "exception": false,
     "start_time": "2021-10-26T11:34:45.873745",
     "status": "completed"
    },
    "tags": []
   },
   "outputs": [],
   "source": [
    "y=df.iloc[:,-1].values"
   ]
  },
  {
   "cell_type": "code",
   "execution_count": 107,
   "id": "a4285d80",
   "metadata": {
    "execution": {
     "iopub.execute_input": "2021-10-26T11:34:46.061732Z",
     "iopub.status.busy": "2021-10-26T11:34:46.061057Z",
     "iopub.status.idle": "2021-10-26T11:34:46.065341Z",
     "shell.execute_reply": "2021-10-26T11:34:46.065892Z",
     "shell.execute_reply.started": "2021-10-26T11:06:45.379964Z"
    },
    "papermill": {
     "duration": 0.067259,
     "end_time": "2021-10-26T11:34:46.066060",
     "exception": false,
     "start_time": "2021-10-26T11:34:45.998801",
     "status": "completed"
    },
    "tags": []
   },
   "outputs": [
    {
     "data": {
      "text/plain": [
       "(162980,)"
      ]
     },
     "execution_count": 107,
     "metadata": {},
     "output_type": "execute_result"
    }
   ],
   "source": [
    "y.shape"
   ]
  },
  {
   "attachments": {},
   "cell_type": "markdown",
   "id": "6fe5ab12",
   "metadata": {
    "papermill": {
     "duration": 0.058818,
     "end_time": "2021-10-26T11:34:46.185167",
     "exception": false,
     "start_time": "2021-10-26T11:34:46.126349",
     "status": "completed"
    },
    "tags": []
   },
   "source": [
    "Now, We have X and y values to process the data"
   ]
  },
  {
   "cell_type": "code",
   "execution_count": 108,
   "id": "0ff1ba06",
   "metadata": {
    "execution": {
     "iopub.execute_input": "2021-10-26T11:34:46.309349Z",
     "iopub.status.busy": "2021-10-26T11:34:46.308684Z",
     "iopub.status.idle": "2021-10-26T11:34:46.616002Z",
     "shell.execute_reply": "2021-10-26T11:34:46.614771Z",
     "shell.execute_reply.started": "2021-10-26T11:06:45.397152Z"
    },
    "papermill": {
     "duration": 0.370866,
     "end_time": "2021-10-26T11:34:46.616165",
     "exception": false,
     "start_time": "2021-10-26T11:34:46.245299",
     "status": "completed"
    },
    "tags": []
   },
   "outputs": [],
   "source": [
    "from sklearn.model_selection import train_test_split\n",
    "#process 20% test data\n",
    "X_train, X_test, y_train, y_test = train_test_split(X,y,test_size=0.2)"
   ]
  },
  {
   "cell_type": "code",
   "execution_count": 109,
   "id": "777e3f01",
   "metadata": {
    "execution": {
     "iopub.execute_input": "2021-10-26T11:34:46.743330Z",
     "iopub.status.busy": "2021-10-26T11:34:46.742500Z",
     "iopub.status.idle": "2021-10-26T11:34:46.745664Z",
     "shell.execute_reply": "2021-10-26T11:34:46.746174Z",
     "shell.execute_reply.started": "2021-10-26T11:06:45.924279Z"
    },
    "papermill": {
     "duration": 0.070447,
     "end_time": "2021-10-26T11:34:46.746341",
     "exception": false,
     "start_time": "2021-10-26T11:34:46.675894",
     "status": "completed"
    },
    "tags": []
   },
   "outputs": [
    {
     "data": {
      "text/plain": [
       "(130384, 500)"
      ]
     },
     "execution_count": 109,
     "metadata": {},
     "output_type": "execute_result"
    }
   ],
   "source": [
    "X_train.shape"
   ]
  },
  {
   "cell_type": "code",
   "execution_count": 110,
   "id": "38c763ed",
   "metadata": {
    "execution": {
     "iopub.execute_input": "2021-10-26T11:34:46.873247Z",
     "iopub.status.busy": "2021-10-26T11:34:46.871466Z",
     "iopub.status.idle": "2021-10-26T11:34:46.876986Z",
     "shell.execute_reply": "2021-10-26T11:34:46.876446Z",
     "shell.execute_reply.started": "2021-10-26T11:06:45.933983Z"
    },
    "papermill": {
     "duration": 0.069994,
     "end_time": "2021-10-26T11:34:46.877121",
     "exception": false,
     "start_time": "2021-10-26T11:34:46.807127",
     "status": "completed"
    },
    "tags": []
   },
   "outputs": [
    {
     "data": {
      "text/plain": [
       "(130384,)"
      ]
     },
     "execution_count": 110,
     "metadata": {},
     "output_type": "execute_result"
    }
   ],
   "source": [
    "y_train.shape"
   ]
  },
  {
   "cell_type": "code",
   "execution_count": 111,
   "id": "3fb778e8",
   "metadata": {
    "execution": {
     "iopub.execute_input": "2021-10-26T11:34:47.002771Z",
     "iopub.status.busy": "2021-10-26T11:34:47.002054Z",
     "iopub.status.idle": "2021-10-26T11:34:47.006726Z",
     "shell.execute_reply": "2021-10-26T11:34:47.007273Z",
     "shell.execute_reply.started": "2021-10-26T11:06:45.947952Z"
    },
    "papermill": {
     "duration": 0.070023,
     "end_time": "2021-10-26T11:34:47.007462",
     "exception": false,
     "start_time": "2021-10-26T11:34:46.937439",
     "status": "completed"
    },
    "tags": []
   },
   "outputs": [
    {
     "data": {
      "text/plain": [
       "(32596,)"
      ]
     },
     "execution_count": 111,
     "metadata": {},
     "output_type": "execute_result"
    }
   ],
   "source": [
    "y_test.shape"
   ]
  },
  {
   "cell_type": "code",
   "execution_count": 112,
   "id": "c5d1e5dd",
   "metadata": {
    "execution": {
     "iopub.execute_input": "2021-10-26T11:34:47.137692Z",
     "iopub.status.busy": "2021-10-26T11:34:47.137005Z",
     "iopub.status.idle": "2021-10-26T11:34:47.144329Z",
     "shell.execute_reply": "2021-10-26T11:34:47.144889Z",
     "shell.execute_reply.started": "2021-10-26T11:06:45.960419Z"
    },
    "papermill": {
     "duration": 0.075315,
     "end_time": "2021-10-26T11:34:47.145075",
     "exception": false,
     "start_time": "2021-10-26T11:34:47.069760",
     "status": "completed"
    },
    "tags": []
   },
   "outputs": [],
   "source": [
    "#import Naive bases major classes to check the accuracy\n",
    "from sklearn.naive_bayes import GaussianNB, MultinomialNB, BernoulliNB"
   ]
  },
  {
   "cell_type": "code",
   "execution_count": 113,
   "id": "73655151",
   "metadata": {
    "execution": {
     "iopub.execute_input": "2021-10-26T11:34:47.270884Z",
     "iopub.status.busy": "2021-10-26T11:34:47.270219Z",
     "iopub.status.idle": "2021-10-26T11:34:47.273865Z",
     "shell.execute_reply": "2021-10-26T11:34:47.274406Z",
     "shell.execute_reply.started": "2021-10-26T11:06:45.973593Z"
    },
    "papermill": {
     "duration": 0.068118,
     "end_time": "2021-10-26T11:34:47.274594",
     "exception": false,
     "start_time": "2021-10-26T11:34:47.206476",
     "status": "completed"
    },
    "tags": []
   },
   "outputs": [],
   "source": [
    "#Create object of each class\n",
    "gObj = GaussianNB()\n",
    "mObj = MultinomialNB()\n",
    "bObj = BernoulliNB()"
   ]
  },
  {
   "cell_type": "code",
   "execution_count": 114,
   "id": "8ef4bdaf",
   "metadata": {
    "execution": {
     "iopub.execute_input": "2021-10-26T11:34:47.400132Z",
     "iopub.status.busy": "2021-10-26T11:34:47.399434Z",
     "iopub.status.idle": "2021-10-26T11:34:52.719161Z",
     "shell.execute_reply": "2021-10-26T11:34:52.718419Z",
     "shell.execute_reply.started": "2021-10-26T11:06:45.980758Z"
    },
    "papermill": {
     "duration": 5.383372,
     "end_time": "2021-10-26T11:34:52.719316",
     "exception": false,
     "start_time": "2021-10-26T11:34:47.335944",
     "status": "completed"
    },
    "tags": []
   },
   "outputs": [
    {
     "data": {
      "text/html": [
       "<style>#sk-container-id-2 {color: black;background-color: white;}#sk-container-id-2 pre{padding: 0;}#sk-container-id-2 div.sk-toggleable {background-color: white;}#sk-container-id-2 label.sk-toggleable__label {cursor: pointer;display: block;width: 100%;margin-bottom: 0;padding: 0.3em;box-sizing: border-box;text-align: center;}#sk-container-id-2 label.sk-toggleable__label-arrow:before {content: \"▸\";float: left;margin-right: 0.25em;color: #696969;}#sk-container-id-2 label.sk-toggleable__label-arrow:hover:before {color: black;}#sk-container-id-2 div.sk-estimator:hover label.sk-toggleable__label-arrow:before {color: black;}#sk-container-id-2 div.sk-toggleable__content {max-height: 0;max-width: 0;overflow: hidden;text-align: left;background-color: #f0f8ff;}#sk-container-id-2 div.sk-toggleable__content pre {margin: 0.2em;color: black;border-radius: 0.25em;background-color: #f0f8ff;}#sk-container-id-2 input.sk-toggleable__control:checked~div.sk-toggleable__content {max-height: 200px;max-width: 100%;overflow: auto;}#sk-container-id-2 input.sk-toggleable__control:checked~label.sk-toggleable__label-arrow:before {content: \"▾\";}#sk-container-id-2 div.sk-estimator input.sk-toggleable__control:checked~label.sk-toggleable__label {background-color: #d4ebff;}#sk-container-id-2 div.sk-label input.sk-toggleable__control:checked~label.sk-toggleable__label {background-color: #d4ebff;}#sk-container-id-2 input.sk-hidden--visually {border: 0;clip: rect(1px 1px 1px 1px);clip: rect(1px, 1px, 1px, 1px);height: 1px;margin: -1px;overflow: hidden;padding: 0;position: absolute;width: 1px;}#sk-container-id-2 div.sk-estimator {font-family: monospace;background-color: #f0f8ff;border: 1px dotted black;border-radius: 0.25em;box-sizing: border-box;margin-bottom: 0.5em;}#sk-container-id-2 div.sk-estimator:hover {background-color: #d4ebff;}#sk-container-id-2 div.sk-parallel-item::after {content: \"\";width: 100%;border-bottom: 1px solid gray;flex-grow: 1;}#sk-container-id-2 div.sk-label:hover label.sk-toggleable__label {background-color: #d4ebff;}#sk-container-id-2 div.sk-serial::before {content: \"\";position: absolute;border-left: 1px solid gray;box-sizing: border-box;top: 0;bottom: 0;left: 50%;z-index: 0;}#sk-container-id-2 div.sk-serial {display: flex;flex-direction: column;align-items: center;background-color: white;padding-right: 0.2em;padding-left: 0.2em;position: relative;}#sk-container-id-2 div.sk-item {position: relative;z-index: 1;}#sk-container-id-2 div.sk-parallel {display: flex;align-items: stretch;justify-content: center;background-color: white;position: relative;}#sk-container-id-2 div.sk-item::before, #sk-container-id-2 div.sk-parallel-item::before {content: \"\";position: absolute;border-left: 1px solid gray;box-sizing: border-box;top: 0;bottom: 0;left: 50%;z-index: -1;}#sk-container-id-2 div.sk-parallel-item {display: flex;flex-direction: column;z-index: 1;position: relative;background-color: white;}#sk-container-id-2 div.sk-parallel-item:first-child::after {align-self: flex-end;width: 50%;}#sk-container-id-2 div.sk-parallel-item:last-child::after {align-self: flex-start;width: 50%;}#sk-container-id-2 div.sk-parallel-item:only-child::after {width: 0;}#sk-container-id-2 div.sk-dashed-wrapped {border: 1px dashed gray;margin: 0 0.4em 0.5em 0.4em;box-sizing: border-box;padding-bottom: 0.4em;background-color: white;}#sk-container-id-2 div.sk-label label {font-family: monospace;font-weight: bold;display: inline-block;line-height: 1.2em;}#sk-container-id-2 div.sk-label-container {text-align: center;}#sk-container-id-2 div.sk-container {/* jupyter's `normalize.less` sets `[hidden] { display: none; }` but bootstrap.min.css set `[hidden] { display: none !important; }` so we also need the `!important` here to be able to override the default hidden behavior on the sphinx rendered scikit-learn.org. See: https://github.com/scikit-learn/scikit-learn/issues/21755 */display: inline-block !important;position: relative;}#sk-container-id-2 div.sk-text-repr-fallback {display: none;}</style><div id=\"sk-container-id-2\" class=\"sk-top-container\"><div class=\"sk-text-repr-fallback\"><pre>BernoulliNB()</pre><b>In a Jupyter environment, please rerun this cell to show the HTML representation or trust the notebook. <br />On GitHub, the HTML representation is unable to render, please try loading this page with nbviewer.org.</b></div><div class=\"sk-container\" hidden><div class=\"sk-item\"><div class=\"sk-estimator sk-toggleable\"><input class=\"sk-toggleable__control sk-hidden--visually\" id=\"sk-estimator-id-2\" type=\"checkbox\" checked><label for=\"sk-estimator-id-2\" class=\"sk-toggleable__label sk-toggleable__label-arrow\">BernoulliNB</label><div class=\"sk-toggleable__content\"><pre>BernoulliNB()</pre></div></div></div></div></div>"
      ],
      "text/plain": [
       "BernoulliNB()"
      ]
     },
     "execution_count": 114,
     "metadata": {},
     "output_type": "execute_result"
    }
   ],
   "source": [
    "#Pass the data set to train\n",
    "gObj.fit(X_train, y_train)\n",
    "mObj.fit(X_train, y_train)\n",
    "bObj.fit(X_train, y_train)"
   ]
  },
  {
   "cell_type": "code",
   "execution_count": 115,
   "id": "51dede8b",
   "metadata": {
    "execution": {
     "iopub.execute_input": "2021-10-26T11:34:52.852501Z",
     "iopub.status.busy": "2021-10-26T11:34:52.851145Z",
     "iopub.status.idle": "2021-10-26T11:34:53.239660Z",
     "shell.execute_reply": "2021-10-26T11:34:53.239100Z",
     "shell.execute_reply.started": "2021-10-26T11:06:53.762261Z"
    },
    "papermill": {
     "duration": 0.457262,
     "end_time": "2021-10-26T11:34:53.239807",
     "exception": false,
     "start_time": "2021-10-26T11:34:52.782545",
     "status": "completed"
    },
    "tags": []
   },
   "outputs": [
    {
     "data": {
      "text/plain": [
       "(32596,)"
      ]
     },
     "execution_count": 115,
     "metadata": {},
     "output_type": "execute_result"
    }
   ],
   "source": [
    "#Create predict: The predict obj sshape should be same as test obj shape\n",
    "y_pred_gauss = gObj.predict(X_test)\n",
    "y_pred_gauss.shape\n"
   ]
  },
  {
   "cell_type": "code",
   "execution_count": 116,
   "id": "98dbafde",
   "metadata": {
    "execution": {
     "iopub.execute_input": "2021-10-26T11:34:53.370766Z",
     "iopub.status.busy": "2021-10-26T11:34:53.369407Z",
     "iopub.status.idle": "2021-10-26T11:34:53.454663Z",
     "shell.execute_reply": "2021-10-26T11:34:53.455547Z",
     "shell.execute_reply.started": "2021-10-26T11:06:54.362084Z"
    },
    "papermill": {
     "duration": 0.154129,
     "end_time": "2021-10-26T11:34:53.455860",
     "exception": false,
     "start_time": "2021-10-26T11:34:53.301731",
     "status": "completed"
    },
    "tags": []
   },
   "outputs": [
    {
     "data": {
      "text/plain": [
       "(32596,)"
      ]
     },
     "execution_count": 116,
     "metadata": {},
     "output_type": "execute_result"
    }
   ],
   "source": [
    "y_pred_multinom = mObj.predict(X_test)\n",
    "y_pred_multinom.shape"
   ]
  },
  {
   "cell_type": "code",
   "execution_count": 117,
   "id": "c08c39fd",
   "metadata": {
    "execution": {
     "iopub.execute_input": "2021-10-26T11:34:53.639025Z",
     "iopub.status.busy": "2021-10-26T11:34:53.637623Z",
     "iopub.status.idle": "2021-10-26T11:34:53.820553Z",
     "shell.execute_reply": "2021-10-26T11:34:53.819584Z",
     "shell.execute_reply.started": "2021-10-26T11:06:54.512074Z"
    },
    "papermill": {
     "duration": 0.25288,
     "end_time": "2021-10-26T11:34:53.820820",
     "exception": false,
     "start_time": "2021-10-26T11:34:53.567940",
     "status": "completed"
    },
    "tags": []
   },
   "outputs": [
    {
     "data": {
      "text/plain": [
       "(32596,)"
      ]
     },
     "execution_count": 117,
     "metadata": {},
     "output_type": "execute_result"
    }
   ],
   "source": [
    "y_pred_berno = bObj.predict(X_test)\n",
    "y_pred_berno.shape"
   ]
  },
  {
   "cell_type": "code",
   "execution_count": 118,
   "id": "d9b83652",
   "metadata": {
    "execution": {
     "iopub.execute_input": "2021-10-26T11:34:53.999331Z",
     "iopub.status.busy": "2021-10-26T11:34:53.998670Z",
     "iopub.status.idle": "2021-10-26T11:34:54.000875Z",
     "shell.execute_reply": "2021-10-26T11:34:54.000193Z",
     "shell.execute_reply.started": "2021-10-26T11:06:54.747203Z"
    },
    "papermill": {
     "duration": 0.069015,
     "end_time": "2021-10-26T11:34:54.001023",
     "exception": false,
     "start_time": "2021-10-26T11:34:53.932008",
     "status": "completed"
    },
    "tags": []
   },
   "outputs": [],
   "source": [
    "from sklearn.metrics import accuracy_score"
   ]
  },
  {
   "cell_type": "code",
   "execution_count": 119,
   "id": "c0ac0394",
   "metadata": {
    "execution": {
     "iopub.execute_input": "2021-10-26T11:34:54.129677Z",
     "iopub.status.busy": "2021-10-26T11:34:54.128991Z",
     "iopub.status.idle": "2021-10-26T11:34:54.135637Z",
     "shell.execute_reply": "2021-10-26T11:34:54.135094Z",
     "shell.execute_reply.started": "2021-10-26T11:06:54.759053Z"
    },
    "papermill": {
     "duration": 0.071842,
     "end_time": "2021-10-26T11:34:54.135791",
     "exception": false,
     "start_time": "2021-10-26T11:34:54.063949",
     "status": "completed"
    },
    "tags": []
   },
   "outputs": [
    {
     "name": "stdout",
     "output_type": "stream",
     "text": [
      "Gaussian 0.6804515891520432\n"
     ]
    }
   ],
   "source": [
    "#accuracy score for Gaussian\n",
    "print(\"Gaussian\", accuracy_score(y_test,y_pred_gauss))"
   ]
  },
  {
   "cell_type": "code",
   "execution_count": 120,
   "id": "2c4597a2",
   "metadata": {
    "execution": {
     "iopub.execute_input": "2021-10-26T11:34:54.266622Z",
     "iopub.status.busy": "2021-10-26T11:34:54.265907Z",
     "iopub.status.idle": "2021-10-26T11:34:54.272166Z",
     "shell.execute_reply": "2021-10-26T11:34:54.272681Z",
     "shell.execute_reply.started": "2021-10-26T11:06:54.789708Z"
    },
    "papermill": {
     "duration": 0.072986,
     "end_time": "2021-10-26T11:34:54.272859",
     "exception": false,
     "start_time": "2021-10-26T11:34:54.199873",
     "status": "completed"
    },
    "tags": []
   },
   "outputs": [
    {
     "name": "stdout",
     "output_type": "stream",
     "text": [
      "Multinomial 0.6730580439317708\n"
     ]
    }
   ],
   "source": [
    "#accuracy score for Multinomial\n",
    "print(\"Multinomial\", accuracy_score(y_test,y_pred_multinom))"
   ]
  },
  {
   "cell_type": "code",
   "execution_count": 121,
   "id": "2983028d",
   "metadata": {
    "execution": {
     "iopub.execute_input": "2021-10-26T11:34:54.401050Z",
     "iopub.status.busy": "2021-10-26T11:34:54.400426Z",
     "iopub.status.idle": "2021-10-26T11:34:54.407827Z",
     "shell.execute_reply": "2021-10-26T11:34:54.406963Z",
     "shell.execute_reply.started": "2021-10-26T11:06:54.819132Z"
    },
    "papermill": {
     "duration": 0.072573,
     "end_time": "2021-10-26T11:34:54.407999",
     "exception": false,
     "start_time": "2021-10-26T11:34:54.335426",
     "status": "completed"
    },
    "tags": []
   },
   "outputs": [
    {
     "name": "stdout",
     "output_type": "stream",
     "text": [
      "BernoulliNB 0.6961283593078905\n"
     ]
    }
   ],
   "source": [
    "#accuracy score for BernoulliNB\n",
    "print(\"BernoulliNB\", accuracy_score(y_test,y_pred_berno))"
   ]
  },
  {
   "attachments": {},
   "cell_type": "markdown",
   "id": "cc90afad",
   "metadata": {
    "papermill": {
     "duration": 0.062772,
     "end_time": "2021-10-26T11:34:54.534544",
     "exception": false,
     "start_time": "2021-10-26T11:34:54.471772",
     "status": "completed"
    },
    "tags": []
   },
   "source": [
    "**Output**"
   ]
  },
  {
   "cell_type": "code",
   "execution_count": 122,
   "id": "ea708dec",
   "metadata": {
    "execution": {
     "iopub.execute_input": "2021-10-26T11:34:54.663525Z",
     "iopub.status.busy": "2021-10-26T11:34:54.662856Z",
     "iopub.status.idle": "2021-10-26T11:34:54.671798Z",
     "shell.execute_reply": "2021-10-26T11:34:54.672505Z",
     "shell.execute_reply.started": "2021-10-26T11:22:06.056997Z"
    },
    "papermill": {
     "duration": 0.075476,
     "end_time": "2021-10-26T11:34:54.672749",
     "exception": false,
     "start_time": "2021-10-26T11:34:54.597273",
     "status": "completed"
    },
    "tags": []
   },
   "outputs": [
    {
     "name": "stdout",
     "output_type": "stream",
     "text": [
      "1\n",
      "1\n",
      "1\n"
     ]
    }
   ],
   "source": [
    "#Crosschek - Output for positive\n",
    "data = {\n",
    "  \"text\": [\"Discussion was very good\"]\n",
    "}    \n",
    "dfx = pd.DataFrame(data)\n",
    "Xcheck = cv.transform(dfx['text']).toarray()\n",
    "print(bObj.predict(Xcheck)[0])\n",
    "print(mObj.predict(Xcheck)[0])\n",
    "print(gObj.predict(Xcheck)[0])"
   ]
  },
  {
   "cell_type": "code",
   "execution_count": 123,
   "id": "8ff2d82c",
   "metadata": {
    "execution": {
     "iopub.execute_input": "2021-10-26T11:34:54.809171Z",
     "iopub.status.busy": "2021-10-26T11:34:54.804941Z",
     "iopub.status.idle": "2021-10-26T11:34:54.813990Z",
     "shell.execute_reply": "2021-10-26T11:34:54.814514Z",
     "shell.execute_reply.started": "2021-10-26T11:21:08.635286Z"
    },
    "papermill": {
     "duration": 0.077264,
     "end_time": "2021-10-26T11:34:54.814707",
     "exception": false,
     "start_time": "2021-10-26T11:34:54.737443",
     "status": "completed"
    },
    "tags": []
   },
   "outputs": [
    {
     "name": "stdout",
     "output_type": "stream",
     "text": [
      "0\n",
      "0\n",
      "0\n"
     ]
    }
   ],
   "source": [
    "#Crosschek - Output for Negative text\n",
    "#Result : it works\n",
    "data = {\n",
    "  \"text\": [\"No one should check this. Worst experience. Harmful to childrens\"]\n",
    "}    \n",
    "dfx = pd.DataFrame(data)\n",
    "Xcheck = cv.transform(dfx['text']).toarray()\n",
    "print(bObj.predict(Xcheck)[0])\n",
    "print(mObj.predict(Xcheck)[0])\n",
    "print(gObj.predict(Xcheck)[0])"
   ]
  },
  {
   "cell_type": "code",
   "execution_count": 124,
   "id": "3d8e1f9e",
   "metadata": {
    "execution": {
     "iopub.execute_input": "2021-10-26T11:34:54.946739Z",
     "iopub.status.busy": "2021-10-26T11:34:54.946040Z",
     "iopub.status.idle": "2021-10-26T11:34:54.954858Z",
     "shell.execute_reply": "2021-10-26T11:34:54.955673Z",
     "shell.execute_reply.started": "2021-10-26T11:14:41.158850Z"
    },
    "papermill": {
     "duration": 0.076444,
     "end_time": "2021-10-26T11:34:54.955909",
     "exception": false,
     "start_time": "2021-10-26T11:34:54.879465",
     "status": "completed"
    },
    "tags": []
   },
   "outputs": [
    {
     "name": "stdout",
     "output_type": "stream",
     "text": [
      "-1\n",
      "-1\n",
      "-1\n"
     ]
    }
   ],
   "source": [
    "#Crosschek - Output for Negative text\n",
    "#Result : it works\n",
    "data = {\n",
    "  \"text\": [\"The analysis is bad\"]\n",
    "}    \n",
    "dfx = pd.DataFrame(data)\n",
    "Xcheck = cv.transform(dfx['text']).toarray()\n",
    "print(bObj.predict(Xcheck)[0])\n",
    "print(mObj.predict(Xcheck)[0])\n",
    "print(gObj.predict(Xcheck)[0])"
   ]
  },
  {
   "cell_type": "code",
   "execution_count": 125,
   "id": "2a34d840",
   "metadata": {
    "execution": {
     "iopub.execute_input": "2021-10-26T11:34:55.091240Z",
     "iopub.status.busy": "2021-10-26T11:34:55.090601Z",
     "iopub.status.idle": "2021-10-26T11:34:55.100315Z",
     "shell.execute_reply": "2021-10-26T11:34:55.100902Z",
     "shell.execute_reply.started": "2021-10-26T11:16:06.430398Z"
    },
    "papermill": {
     "duration": 0.079842,
     "end_time": "2021-10-26T11:34:55.101082",
     "exception": false,
     "start_time": "2021-10-26T11:34:55.021240",
     "status": "completed"
    },
    "tags": []
   },
   "outputs": [
    {
     "name": "stdout",
     "output_type": "stream",
     "text": [
      "0\n",
      "1\n",
      "0\n"
     ]
    }
   ],
   "source": [
    "#Crosschek - Output for neutral\n",
    "#Result : Multinomial fails\n",
    "data = {\n",
    "  \"text\": [\"we are coming\"]\n",
    "}    \n",
    "dfx = pd.DataFrame(data)\n",
    "Xcheck = cv.transform(dfx['text']).toarray()\n",
    "print(bObj.predict(Xcheck)[0])\n",
    "print(mObj.predict(Xcheck)[0])\n",
    "print(gObj.predict(Xcheck)[0])"
   ]
  },
  {
   "cell_type": "code",
   "execution_count": 126,
   "id": "d3a2b09c",
   "metadata": {
    "execution": {
     "iopub.execute_input": "2021-10-26T11:34:55.240196Z",
     "iopub.status.busy": "2021-10-26T11:34:55.234645Z",
     "iopub.status.idle": "2021-10-26T11:34:55.245004Z",
     "shell.execute_reply": "2021-10-26T11:34:55.245544Z",
     "shell.execute_reply.started": "2021-10-26T11:23:26.216598Z"
    },
    "papermill": {
     "duration": 0.079533,
     "end_time": "2021-10-26T11:34:55.245749",
     "exception": false,
     "start_time": "2021-10-26T11:34:55.166216",
     "status": "completed"
    },
    "tags": []
   },
   "outputs": [
    {
     "name": "stdout",
     "output_type": "stream",
     "text": [
      "1\n",
      "1\n",
      "-1\n"
     ]
    }
   ],
   "source": [
    "#Crosschek - Output for neutral\n",
    "#Result : None worked\n",
    "data = {\n",
    "  \"text\": [\"The analysis is not bad nor good\"]\n",
    "}    \n",
    "dfx = pd.DataFrame(data)\n",
    "Xcheck = cv.transform(dfx['text']).toarray()\n",
    "print(bObj.predict(Xcheck)[0])\n",
    "print(mObj.predict(Xcheck)[0])\n",
    "print(gObj.predict(Xcheck)[0])"
   ]
  }
 ],
 "metadata": {
  "kernelspec": {
   "display_name": "Python 3",
   "language": "python",
   "name": "python3"
  },
  "language_info": {
   "codemirror_mode": {
    "name": "ipython",
    "version": 3
   },
   "file_extension": ".py",
   "mimetype": "text/x-python",
   "name": "python",
   "nbconvert_exporter": "python",
   "pygments_lexer": "ipython3",
   "version": "3.10.2"
  },
  "papermill": {
   "default_parameters": {},
   "duration": 521.40519,
   "end_time": "2021-10-26T11:34:56.123465",
   "environment_variables": {},
   "exception": null,
   "input_path": "__notebook__.ipynb",
   "output_path": "__notebook__.ipynb",
   "parameters": {},
   "start_time": "2021-10-26T11:26:14.718275",
   "version": "2.3.3"
  }
 },
 "nbformat": 4,
 "nbformat_minor": 5
}
