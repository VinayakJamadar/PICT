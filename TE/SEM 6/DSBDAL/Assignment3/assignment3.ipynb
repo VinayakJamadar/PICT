{
 "cells": [
  {
   "attachments": {},
   "cell_type": "markdown",
   "metadata": {},
   "source": [
    "## Descriptive Statistics - Measures of Central Tendency and variability"
   ]
  },
  {
   "cell_type": "code",
   "execution_count": 2,
   "metadata": {},
   "outputs": [
    {
     "name": "stdout",
     "output_type": "stream",
     "text": [
      "   Age  Income\n",
      "0   15      20\n",
      "1   15      30\n",
      "2   15      40\n",
      "3   15      50\n",
      "4   27      60\n",
      "5   27      70\n",
      "6   60      70\n"
     ]
    }
   ],
   "source": [
    "import pandas as pd\n",
    "import numpy as np\n",
    "\n",
    "df1 = pd.read_csv('data.csv') #reading csv file\n",
    "print(df1)"
   ]
  },
  {
   "cell_type": "code",
   "execution_count": 3,
   "metadata": {},
   "outputs": [
    {
     "name": "stdout",
     "output_type": "stream",
     "text": [
      "\n",
      " Mean\n",
      "Age\n",
      "Children          35.0\n",
      "Working Age       65.0\n",
      "Senior Citizen    70.0\n",
      "Name: Income, dtype: float64\n",
      "\n",
      " Median\n",
      "Age\n",
      "Children          35.0\n",
      "Working Age       65.0\n",
      "Senior Citizen    70.0\n",
      "Name: Income, dtype: float64\n",
      "\n",
      " Minimum\n",
      "Age\n",
      "Children          20\n",
      "Working Age       60\n",
      "Senior Citizen    70\n",
      "Name: Income, dtype: int64\n",
      "\n",
      " Maximum\n",
      "Age\n",
      "Children          50\n",
      "Working Age       70\n",
      "Senior Citizen    70\n",
      "Name: Income, dtype: int64\n",
      "\n",
      " Standard Deviation\n",
      "Age\n",
      "Children          12.909944\n",
      "Working Age        7.071068\n",
      "Senior Citizen          NaN\n",
      "Name: Income, dtype: float64\n"
     ]
    }
   ],
   "source": [
    "# 1. Statisical details of income (quantitative variable) grouped by age (categorical variable)\n",
    "age_groups = pd.cut(df1['Age'], bins=[0, 15, 59, 99], labels=['Children', 'Working Age', 'Senior Citizen'])\n",
    "print('\\n Mean')\n",
    "print(df1.groupby(age_groups)['Income'].mean())\n",
    "# print(df1.groupby('Age', as_index=False).mean())\n",
    "print('\\n Median')\n",
    "print(df1.groupby(age_groups)['Income'].median())\n",
    "# print(df1.groupby('Age', as_index=False).median())\n",
    "# print('\\nMode')\n",
    "# print(df1.groupby(['Age'])['Income'].agg(pd.Series.mode))\n",
    "print('\\n Minimum')\n",
    "print(df1.groupby(age_groups)['Income'].min())\n",
    "# print(df1.groupby('Age', as_index=False).min())\n",
    "print('\\n Maximum')\n",
    "print(df1.groupby(age_groups)['Income'].max())\n",
    "# print(df1.groupby('Age', as_index=False).max())\n",
    "print('\\n Standard Deviation')\n",
    "print(df1.groupby(age_groups)['Income'].std())\n",
    "# print(df1.groupby('Age', as_index=False).std())"
   ]
  },
  {
   "cell_type": "code",
   "execution_count": 4,
   "metadata": {},
   "outputs": [
    {
     "name": "stdout",
     "output_type": "stream",
     "text": [
      "      Id  SepalLengthCm  SepalWidthCm  PetalLengthCm  PetalWidthCm  \\\n",
      "0      1            5.1           3.5            1.4           0.2   \n",
      "1      2            4.9           3.0            1.4           0.2   \n",
      "2      3            4.7           3.2            1.3           0.2   \n",
      "3      4            4.6           3.1            1.5           0.2   \n",
      "4      5            5.0           3.6            1.4           0.2   \n",
      "..   ...            ...           ...            ...           ...   \n",
      "145  146            6.7           3.0            5.2           2.3   \n",
      "146  147            6.3           2.5            5.0           1.9   \n",
      "147  148            6.5           3.0            5.2           2.0   \n",
      "148  149            6.2           3.4            5.4           2.3   \n",
      "149  150            5.9           3.0            5.1           1.8   \n",
      "\n",
      "            Species  \n",
      "0       Iris-setosa  \n",
      "1       Iris-setosa  \n",
      "2       Iris-setosa  \n",
      "3       Iris-setosa  \n",
      "4       Iris-setosa  \n",
      "..              ...  \n",
      "145  Iris-virginica  \n",
      "146  Iris-virginica  \n",
      "147  Iris-virginica  \n",
      "148  Iris-virginica  \n",
      "149  Iris-virginica  \n",
      "\n",
      "[150 rows x 6 columns]\n",
      "Iris-setosa\n",
      "             Id  SepalLengthCm  SepalWidthCm  PetalLengthCm  PetalWidthCm\n",
      "count  50.00000       50.00000     50.000000      50.000000      50.00000\n",
      "mean   25.50000        5.00600      3.418000       1.464000       0.24400\n",
      "std    14.57738        0.35249      0.381024       0.173511       0.10721\n",
      "min     1.00000        4.30000      2.300000       1.000000       0.10000\n",
      "25%    13.25000        4.80000      3.125000       1.400000       0.20000\n",
      "50%    25.50000        5.00000      3.400000       1.500000       0.20000\n",
      "75%    37.75000        5.20000      3.675000       1.575000       0.30000\n",
      "max    50.00000        5.80000      4.400000       1.900000       0.60000\n",
      "\n",
      " Iris-versicolor\n",
      "              Id  SepalLengthCm  SepalWidthCm  PetalLengthCm  PetalWidthCm\n",
      "count   50.00000      50.000000     50.000000      50.000000     50.000000\n",
      "mean    75.50000       5.936000      2.770000       4.260000      1.326000\n",
      "std     14.57738       0.516171      0.313798       0.469911      0.197753\n",
      "min     51.00000       4.900000      2.000000       3.000000      1.000000\n",
      "25%     63.25000       5.600000      2.525000       4.000000      1.200000\n",
      "50%     75.50000       5.900000      2.800000       4.350000      1.300000\n",
      "75%     87.75000       6.300000      3.000000       4.600000      1.500000\n",
      "max    100.00000       7.000000      3.400000       5.100000      1.800000\n",
      "\n",
      " Iris-virginica\n",
      "              Id  SepalLengthCm  SepalWidthCm  PetalLengthCm  PetalWidthCm\n",
      "count   50.00000       50.00000     50.000000      50.000000      50.00000\n",
      "mean   125.50000        6.58800      2.974000       5.552000       2.02600\n",
      "std     14.57738        0.63588      0.322497       0.551895       0.27465\n",
      "min    101.00000        4.90000      2.200000       4.500000       1.40000\n",
      "25%    113.25000        6.22500      2.800000       5.100000       1.80000\n",
      "50%    125.50000        6.50000      3.000000       5.550000       2.00000\n",
      "75%    137.75000        6.90000      3.175000       5.875000       2.30000\n",
      "max    150.00000        7.90000      3.800000       6.900000       2.50000\n"
     ]
    }
   ],
   "source": [
    "# 2. Statisical details of the species of ‘Iris-setosa’, ‘Iris-versicolor’ and ‘Iris-virginica of iris.csv dataset\n",
    "df2 = pd.read_csv('iris.csv')\n",
    "print(df2)\n",
    "print('Iris-setosa')\n",
    "setosa = df2['Species'] == 'Iris-setosa'\n",
    "print(df2[setosa].describe())\n",
    "print('\\n Iris-versicolor')\n",
    "setosa = df2['Species'] == 'Iris-versicolor'\n",
    "print(df2[setosa].describe())\n",
    "print('\\n Iris-virginica')\n",
    "setosa = df2['Species'] == 'Iris-virginica'\n",
    "print(df2[setosa].describe())"
   ]
  }
 ],
 "metadata": {
  "kernelspec": {
   "display_name": "Python 3",
   "language": "python",
   "name": "python3"
  },
  "language_info": {
   "codemirror_mode": {
    "name": "ipython",
    "version": 3
   },
   "file_extension": ".py",
   "mimetype": "text/x-python",
   "name": "python",
   "nbconvert_exporter": "python",
   "pygments_lexer": "ipython3",
   "version": "3.10.2"
  },
  "orig_nbformat": 4
 },
 "nbformat": 4,
 "nbformat_minor": 2
}
