{
 "cells": [
  {
   "cell_type": "code",
   "execution_count": 4,
   "id": "eeb349b2",
   "metadata": {},
   "outputs": [
    {
     "ename": "ModuleNotFoundError",
     "evalue": "No module named 'pytsk3'",
     "output_type": "error",
     "traceback": [
      "\u001b[1;31m---------------------------------------------------------------------------\u001b[0m",
      "\u001b[1;31mModuleNotFoundError\u001b[0m                       Traceback (most recent call last)",
      "\u001b[1;32me:\\PICT\\BE\\SEM 7\\LP4\\CSDF\\CSDF A4.ipynb Cell 1\u001b[0m line \u001b[0;36m2\n\u001b[0;32m      <a href='vscode-notebook-cell:/e%3A/PICT/BE/SEM%207/LP4/CSDF/CSDF%20A4.ipynb#W0sZmlsZQ%3D%3D?line=0'>1</a>\u001b[0m \u001b[39mimport\u001b[39;00m \u001b[39mos\u001b[39;00m\n\u001b[1;32m----> <a href='vscode-notebook-cell:/e%3A/PICT/BE/SEM%207/LP4/CSDF/CSDF%20A4.ipynb#W0sZmlsZQ%3D%3D?line=1'>2</a>\u001b[0m \u001b[39mimport\u001b[39;00m \u001b[39mpytsk3\u001b[39;00m\n\u001b[0;32m      <a href='vscode-notebook-cell:/e%3A/PICT/BE/SEM%207/LP4/CSDF/CSDF%20A4.ipynb#W0sZmlsZQ%3D%3D?line=3'>4</a>\u001b[0m \u001b[39m# Define the disk image path\u001b[39;00m\n\u001b[0;32m      <a href='vscode-notebook-cell:/e%3A/PICT/BE/SEM%207/LP4/CSDF/CSDF%20A4.ipynb#W0sZmlsZQ%3D%3D?line=4'>5</a>\u001b[0m image_path \u001b[39m=\u001b[39m \u001b[39m\"\u001b[39m\u001b[39mpath_to_disk_image.dd\u001b[39m\u001b[39m\"\u001b[39m  \u001b[39m# Replace with your disk image file\u001b[39;00m\n",
      "\u001b[1;31mModuleNotFoundError\u001b[0m: No module named 'pytsk3'"
     ]
    }
   ],
   "source": [
    "import os\n",
    "import pytsk3\n",
    "\n",
    "# Define the disk image path\n",
    "image_path = \"path_to_disk_image.dd\"  # Replace with your disk image file\n",
    "\n",
    "# Output directory for recovered files\n",
    "output_dir = \"recovered_files\"\n",
    "os.makedirs(output_dir, exist_ok=True)\n",
    "\n",
    "def recover_deleted_files(partition_addr, output_dir):\n",
    "    img_info = pytsk3.Img_Info(image_path)\n",
    "    fs_info = pytsk3.FS_Info(img_info, addr=partition_addr)\n",
    "    \n",
    "    for directory_entry in fs_info.open_dir(path=\"/\", addr=partition_addr):\n",
    "        for file_entry in directory_entry:\n",
    "            if file_entry.info.name.type == pytsk3.TSK_FS_NAME_TYPE_UNDEF:\n",
    "                continue\n",
    "            try:\n",
    "                file_content = fs_info.open_meta(file_entry.info)\n",
    "                if file_content.info.meta.flags == pytsk3.TSK_FS_META_FLAG_ALLOC:\n",
    "                    with open(os.path.join(output_dir, file_entry.info.name.name), \"wb\") as f:\n",
    "                        f.write(file_content.read_random(0, file_entry.info.meta.size))\n",
    "            except Exception as e:\n",
    "                print(f\"Error recovering {file_entry.info.name.name}: {str(e)}\")\n",
    "\n",
    "if __name__ == \"__main__\":\n",
    "    partition_table = pytsk3.Volume_Info(image_path)\n",
    "    for partition in partition_table:\n",
    "        if len(partition) > 0:\n",
    "            print(f\"Recovering deleted files from partition {partition.addr}\")\n",
    "            recover_deleted_files(partition.addr, output_dir)\n",
    "\n",
    "print(\"File recovery complete. Recovered files are in the 'recovered_files' directory.\")\n"
   ]
  }
 ],
 "metadata": {
  "kernelspec": {
   "display_name": "Python 3 (ipykernel)",
   "language": "python",
   "name": "python3"
  },
  "language_info": {
   "codemirror_mode": {
    "name": "ipython",
    "version": 3
   },
   "file_extension": ".py",
   "mimetype": "text/x-python",
   "name": "python",
   "nbconvert_exporter": "python",
   "pygments_lexer": "ipython3",
   "version": "3.10.2"
  }
 },
 "nbformat": 4,
 "nbformat_minor": 5
}
