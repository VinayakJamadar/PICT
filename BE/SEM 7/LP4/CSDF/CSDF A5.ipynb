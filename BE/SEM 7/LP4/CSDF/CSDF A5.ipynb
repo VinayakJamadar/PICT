{
 "cells": [
  {
   "cell_type": "code",
   "execution_count": 5,
   "id": "e761e8a0",
   "metadata": {},
   "outputs": [],
   "source": [
    "import re"
   ]
  },
  {
   "cell_type": "code",
   "execution_count": 6,
   "id": "37ebc1de",
   "metadata": {},
   "outputs": [],
   "source": [
    "# Function to read log entries from a text file\n",
    "def read_log_file(file_path):\n",
    "    with open(file_path, 'r') as log_file:\n",
    "        log_entries = log_file.readlines()\n",
    "    return log_entries"
   ]
  },
  {
   "cell_type": "code",
   "execution_count": 7,
   "id": "19725c51",
   "metadata": {},
   "outputs": [],
   "source": [
    "# Function to perform event correlation based on keywords\n",
    "def correlate_events(log_entries):\n",
    "    correlated_events = []\n",
    "    for entry in log_entries:\n",
    "        if 'error' in entry.lower():\n",
    "            correlated_events.append(f\"Error detected: {entry.strip()}\")\n",
    "        if 'warning' in entry.lower():\n",
    "            correlated_events.append(f\"Warning detected: {entry.strip()}\")\n",
    "        # Add more event correlation rules here\n",
    "\n",
    "    return correlated_events\n"
   ]
  },
  {
   "cell_type": "code",
   "execution_count": 8,
   "id": "ddc9f1e7",
   "metadata": {},
   "outputs": [
    {
     "ename": "FileNotFoundError",
     "evalue": "[Errno 2] No such file or directory: 'C:\\\\Users\\\\admin\\\\Desktop\\\\SEM7\\\\LP4\\\\Codes\\\\sample_log.txt'",
     "output_type": "error",
     "traceback": [
      "\u001b[1;31m---------------------------------------------------------------------------\u001b[0m",
      "\u001b[1;31mFileNotFoundError\u001b[0m                         Traceback (most recent call last)",
      "\u001b[1;32me:\\PICT\\BE\\SEM 7\\LP4\\CSDF\\CSDF A5.ipynb Cell 4\u001b[0m line \u001b[0;36m4\n\u001b[0;32m      <a href='vscode-notebook-cell:/e%3A/PICT/BE/SEM%207/LP4/CSDF/CSDF%20A5.ipynb#W3sZmlsZQ%3D%3D?line=0'>1</a>\u001b[0m \u001b[39mif\u001b[39;00m \u001b[39m__name__\u001b[39m \u001b[39m==\u001b[39m \u001b[39m'\u001b[39m\u001b[39m__main__\u001b[39m\u001b[39m'\u001b[39m:\n\u001b[0;32m      <a href='vscode-notebook-cell:/e%3A/PICT/BE/SEM%207/LP4/CSDF/CSDF%20A5.ipynb#W3sZmlsZQ%3D%3D?line=1'>2</a>\u001b[0m     log_file_path \u001b[39m=\u001b[39m \u001b[39mr\u001b[39m\u001b[39m'\u001b[39m\u001b[39mC:\u001b[39m\u001b[39m\\\u001b[39m\u001b[39mUsers\u001b[39m\u001b[39m\\\u001b[39m\u001b[39madmin\u001b[39m\u001b[39m\\\u001b[39m\u001b[39mDesktop\u001b[39m\u001b[39m\\\u001b[39m\u001b[39mSEM7\u001b[39m\u001b[39m\\\u001b[39m\u001b[39mLP4\u001b[39m\u001b[39m\\\u001b[39m\u001b[39mCodes\u001b[39m\u001b[39m\\\u001b[39m\u001b[39msample_log.txt\u001b[39m\u001b[39m'\u001b[39m  \u001b[39m#Replace with your log file path\u001b[39;00m\n\u001b[1;32m----> <a href='vscode-notebook-cell:/e%3A/PICT/BE/SEM%207/LP4/CSDF/CSDF%20A5.ipynb#W3sZmlsZQ%3D%3D?line=3'>4</a>\u001b[0m     log_entries \u001b[39m=\u001b[39m read_log_file(log_file_path)\n\u001b[0;32m      <a href='vscode-notebook-cell:/e%3A/PICT/BE/SEM%207/LP4/CSDF/CSDF%20A5.ipynb#W3sZmlsZQ%3D%3D?line=4'>5</a>\u001b[0m     correlated_events \u001b[39m=\u001b[39m correlate_events(log_entries)\n\u001b[0;32m      <a href='vscode-notebook-cell:/e%3A/PICT/BE/SEM%207/LP4/CSDF/CSDF%20A5.ipynb#W3sZmlsZQ%3D%3D?line=6'>7</a>\u001b[0m     \u001b[39mif\u001b[39;00m correlated_events:\n",
      "\u001b[1;32me:\\PICT\\BE\\SEM 7\\LP4\\CSDF\\CSDF A5.ipynb Cell 4\u001b[0m line \u001b[0;36m3\n\u001b[0;32m      <a href='vscode-notebook-cell:/e%3A/PICT/BE/SEM%207/LP4/CSDF/CSDF%20A5.ipynb#W3sZmlsZQ%3D%3D?line=1'>2</a>\u001b[0m \u001b[39mdef\u001b[39;00m \u001b[39mread_log_file\u001b[39m(file_path):\n\u001b[1;32m----> <a href='vscode-notebook-cell:/e%3A/PICT/BE/SEM%207/LP4/CSDF/CSDF%20A5.ipynb#W3sZmlsZQ%3D%3D?line=2'>3</a>\u001b[0m     \u001b[39mwith\u001b[39;00m \u001b[39mopen\u001b[39;49m(file_path, \u001b[39m'\u001b[39;49m\u001b[39mr\u001b[39;49m\u001b[39m'\u001b[39;49m) \u001b[39mas\u001b[39;00m log_file:\n\u001b[0;32m      <a href='vscode-notebook-cell:/e%3A/PICT/BE/SEM%207/LP4/CSDF/CSDF%20A5.ipynb#W3sZmlsZQ%3D%3D?line=3'>4</a>\u001b[0m         log_entries \u001b[39m=\u001b[39m log_file\u001b[39m.\u001b[39mreadlines()\n\u001b[0;32m      <a href='vscode-notebook-cell:/e%3A/PICT/BE/SEM%207/LP4/CSDF/CSDF%20A5.ipynb#W3sZmlsZQ%3D%3D?line=4'>5</a>\u001b[0m     \u001b[39mreturn\u001b[39;00m log_entries\n",
      "File \u001b[1;32m~\\AppData\\Roaming\\Python\\Python310\\site-packages\\IPython\\core\\interactiveshell.py:282\u001b[0m, in \u001b[0;36m_modified_open\u001b[1;34m(file, *args, **kwargs)\u001b[0m\n\u001b[0;32m    275\u001b[0m \u001b[39mif\u001b[39;00m file \u001b[39min\u001b[39;00m {\u001b[39m0\u001b[39m, \u001b[39m1\u001b[39m, \u001b[39m2\u001b[39m}:\n\u001b[0;32m    276\u001b[0m     \u001b[39mraise\u001b[39;00m \u001b[39mValueError\u001b[39;00m(\n\u001b[0;32m    277\u001b[0m         \u001b[39mf\u001b[39m\u001b[39m\"\u001b[39m\u001b[39mIPython won\u001b[39m\u001b[39m'\u001b[39m\u001b[39mt let you open fd=\u001b[39m\u001b[39m{\u001b[39;00mfile\u001b[39m}\u001b[39;00m\u001b[39m by default \u001b[39m\u001b[39m\"\u001b[39m\n\u001b[0;32m    278\u001b[0m         \u001b[39m\"\u001b[39m\u001b[39mas it is likely to crash IPython. If you know what you are doing, \u001b[39m\u001b[39m\"\u001b[39m\n\u001b[0;32m    279\u001b[0m         \u001b[39m\"\u001b[39m\u001b[39myou can use builtins\u001b[39m\u001b[39m'\u001b[39m\u001b[39m open.\u001b[39m\u001b[39m\"\u001b[39m\n\u001b[0;32m    280\u001b[0m     )\n\u001b[1;32m--> 282\u001b[0m \u001b[39mreturn\u001b[39;00m io_open(file, \u001b[39m*\u001b[39margs, \u001b[39m*\u001b[39m\u001b[39m*\u001b[39mkwargs)\n",
      "\u001b[1;31mFileNotFoundError\u001b[0m: [Errno 2] No such file or directory: 'C:\\\\Users\\\\admin\\\\Desktop\\\\SEM7\\\\LP4\\\\Codes\\\\sample_log.txt'"
     ]
    }
   ],
   "source": [
    "if __name__ == '__main__':\n",
    "    log_file_path = r'C:\\Users\\admin\\Desktop\\SEM7\\LP4\\Codes\\sample_log.txt'  #Replace with your log file path\n",
    "\n",
    "    log_entries = read_log_file(log_file_path)\n",
    "    correlated_events = correlate_events(log_entries)\n",
    "\n",
    "    if correlated_events:\n",
    "        print(\"Correlated Events:\")\n",
    "        for event in correlated_events:\n",
    "            print(event)\n",
    "    else:\n",
    "        print(\"No correlated events found.\")"
   ]
  }
 ],
 "metadata": {
  "kernelspec": {
   "display_name": "Python 3 (ipykernel)",
   "language": "python",
   "name": "python3"
  },
  "language_info": {
   "codemirror_mode": {
    "name": "ipython",
    "version": 3
   },
   "file_extension": ".py",
   "mimetype": "text/x-python",
   "name": "python",
   "nbconvert_exporter": "python",
   "pygments_lexer": "ipython3",
   "version": "3.10.2"
  }
 },
 "nbformat": 4,
 "nbformat_minor": 5
}
