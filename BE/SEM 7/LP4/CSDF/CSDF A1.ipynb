{
 "cells": [
  {
   "cell_type": "code",
   "execution_count": 2,
   "id": "a573a014",
   "metadata": {},
   "outputs": [],
   "source": [
    "import re"
   ]
  },
  {
   "cell_type": "code",
   "execution_count": 3,
   "id": "2e753120",
   "metadata": {},
   "outputs": [],
   "source": [
    "def parse_email_header(header_text):\n",
    "    header_info = {}\n",
    "    \n",
    "    # Split the header text into individual lines\n",
    "    header_lines = header_text.split('\\n')\n",
    "    \n",
    "    for line in header_lines:\n",
    "        # Split each line into key-value pairs using a regular expression\n",
    "        matches = re.match(r'([^:]+):\\s*(.*)', line)\n",
    "        if matches:\n",
    "            key, value = matches.group(1), matches.group(2)\n",
    "            header_info[key] = value\n",
    "    \n",
    "    return header_info"
   ]
  },
  {
   "cell_type": "code",
   "execution_count": 4,
   "id": "c8e26d20",
   "metadata": {},
   "outputs": [
    {
     "name": "stdout",
     "output_type": "stream",
     "text": [
      "Email Header Information:\n",
      "    From: John Doe <johndoe@example.com>\n",
      "    To: Jane Smith <janesmith@example.com>\n",
      "    Subject: Example Email\n",
      "    Date: Tue, 15 Oct 2023 12:00:00 -0400\n",
      "    Message-ID: <1234567890@example.com>\n",
      "    Received: from mail.example.com (mail.example.com [192.168.1.100])\n",
      "        for <janesmith@example.com>; Tue, 15 Oct 2023 12: 00:00 -0400 (EDT)\n"
     ]
    }
   ],
   "source": [
    "if __name__ == \"__main__\":\n",
    "    email_header = \"\"\"\n",
    "    From: John Doe <johndoe@example.com>\n",
    "    To: Jane Smith <janesmith@example.com>\n",
    "    Subject: Example Email\n",
    "    Date: Tue, 15 Oct 2023 12:00:00 -0400\n",
    "    Message-ID: <1234567890@example.com>\n",
    "    Received: from mail.example.com (mail.example.com [192.168.1.100])\n",
    "        by mail.example.com (Postfix) with ESMTP id ABCD1234\n",
    "        for <janesmith@example.com>; Tue, 15 Oct 2023 12:00:00 -0400 (EDT)\n",
    "    \"\"\"\n",
    "    \n",
    "    email_info = parse_email_header(email_header)\n",
    "    \n",
    "    print(\"Email Header Information:\")\n",
    "    for key, value in email_info.items():\n",
    "        print(f\"{key}: {value}\")"
   ]
  }
 ],
 "metadata": {
  "kernelspec": {
   "display_name": "Python 3 (ipykernel)",
   "language": "python",
   "name": "python3"
  },
  "language_info": {
   "codemirror_mode": {
    "name": "ipython",
    "version": 3
   },
   "file_extension": ".py",
   "mimetype": "text/x-python",
   "name": "python",
   "nbconvert_exporter": "python",
   "pygments_lexer": "ipython3",
   "version": "3.10.2"
  }
 },
 "nbformat": 4,
 "nbformat_minor": 5
}
