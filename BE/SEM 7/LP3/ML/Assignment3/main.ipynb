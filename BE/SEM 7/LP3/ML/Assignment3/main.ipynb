{
 "cells": [
  {
   "cell_type": "code",
   "execution_count": 165,
   "metadata": {},
   "outputs": [],
   "source": [
    "import numpy as np\n",
    "import matplotlib.pyplot as plt\n",
    "import pandas as pd\n",
    "import seaborn as sns\n",
    "sns.set()"
   ]
  },
  {
   "cell_type": "markdown",
   "metadata": {},
   "source": [
    "### Data Preprocessing"
   ]
  },
  {
   "cell_type": "markdown",
   "metadata": {},
   "source": [
    "In this dataset, we have to consider which of the factors may play a role in someone exiting a bank. To do that we must look at all the column and infer whether it will matter in classifying a new customer or not. The information about a customer is entailed in columns 0 through 12 (RowNumber-EstimatedSalary), while the output (whether the customer exited or not) is stored in the 13th row (Exited)."
   ]
  },
  {
   "cell_type": "markdown",
   "metadata": {},
   "source": [
    "For as much as we care, neither the customer ID, nor the surname should matter in classification. Therefore, we will use columns 3 (CreditScore) inclusive through the 13th column (exclusive)."
   ]
  },
  {
   "cell_type": "code",
   "execution_count": 166,
   "metadata": {},
   "outputs": [
    {
     "data": {
      "text/html": [
       "<div>\n",
       "<style scoped>\n",
       "    .dataframe tbody tr th:only-of-type {\n",
       "        vertical-align: middle;\n",
       "    }\n",
       "\n",
       "    .dataframe tbody tr th {\n",
       "        vertical-align: top;\n",
       "    }\n",
       "\n",
       "    .dataframe thead th {\n",
       "        text-align: right;\n",
       "    }\n",
       "</style>\n",
       "<table border=\"1\" class=\"dataframe\">\n",
       "  <thead>\n",
       "    <tr style=\"text-align: right;\">\n",
       "      <th></th>\n",
       "      <th>CustomerId</th>\n",
       "      <th>Surname</th>\n",
       "      <th>CreditScore</th>\n",
       "      <th>Geography</th>\n",
       "      <th>Gender</th>\n",
       "      <th>Age</th>\n",
       "      <th>Tenure</th>\n",
       "      <th>Balance</th>\n",
       "      <th>NumOfProducts</th>\n",
       "      <th>HasCrCard</th>\n",
       "      <th>IsActiveMember</th>\n",
       "      <th>EstimatedSalary</th>\n",
       "      <th>Exited</th>\n",
       "    </tr>\n",
       "    <tr>\n",
       "      <th>RowNumber</th>\n",
       "      <th></th>\n",
       "      <th></th>\n",
       "      <th></th>\n",
       "      <th></th>\n",
       "      <th></th>\n",
       "      <th></th>\n",
       "      <th></th>\n",
       "      <th></th>\n",
       "      <th></th>\n",
       "      <th></th>\n",
       "      <th></th>\n",
       "      <th></th>\n",
       "      <th></th>\n",
       "    </tr>\n",
       "  </thead>\n",
       "  <tbody>\n",
       "    <tr>\n",
       "      <th>1</th>\n",
       "      <td>15634602</td>\n",
       "      <td>Hargrave</td>\n",
       "      <td>619</td>\n",
       "      <td>France</td>\n",
       "      <td>Female</td>\n",
       "      <td>42</td>\n",
       "      <td>2</td>\n",
       "      <td>0.00</td>\n",
       "      <td>1</td>\n",
       "      <td>1</td>\n",
       "      <td>1</td>\n",
       "      <td>101348.88</td>\n",
       "      <td>1</td>\n",
       "    </tr>\n",
       "    <tr>\n",
       "      <th>2</th>\n",
       "      <td>15647311</td>\n",
       "      <td>Hill</td>\n",
       "      <td>608</td>\n",
       "      <td>Spain</td>\n",
       "      <td>Female</td>\n",
       "      <td>41</td>\n",
       "      <td>1</td>\n",
       "      <td>83807.86</td>\n",
       "      <td>1</td>\n",
       "      <td>0</td>\n",
       "      <td>1</td>\n",
       "      <td>112542.58</td>\n",
       "      <td>0</td>\n",
       "    </tr>\n",
       "    <tr>\n",
       "      <th>3</th>\n",
       "      <td>15619304</td>\n",
       "      <td>Onio</td>\n",
       "      <td>502</td>\n",
       "      <td>France</td>\n",
       "      <td>Female</td>\n",
       "      <td>42</td>\n",
       "      <td>8</td>\n",
       "      <td>159660.80</td>\n",
       "      <td>3</td>\n",
       "      <td>1</td>\n",
       "      <td>0</td>\n",
       "      <td>113931.57</td>\n",
       "      <td>1</td>\n",
       "    </tr>\n",
       "    <tr>\n",
       "      <th>4</th>\n",
       "      <td>15701354</td>\n",
       "      <td>Boni</td>\n",
       "      <td>699</td>\n",
       "      <td>France</td>\n",
       "      <td>Female</td>\n",
       "      <td>39</td>\n",
       "      <td>1</td>\n",
       "      <td>0.00</td>\n",
       "      <td>2</td>\n",
       "      <td>0</td>\n",
       "      <td>0</td>\n",
       "      <td>93826.63</td>\n",
       "      <td>0</td>\n",
       "    </tr>\n",
       "    <tr>\n",
       "      <th>5</th>\n",
       "      <td>15737888</td>\n",
       "      <td>Mitchell</td>\n",
       "      <td>850</td>\n",
       "      <td>Spain</td>\n",
       "      <td>Female</td>\n",
       "      <td>43</td>\n",
       "      <td>2</td>\n",
       "      <td>125510.82</td>\n",
       "      <td>1</td>\n",
       "      <td>1</td>\n",
       "      <td>1</td>\n",
       "      <td>79084.10</td>\n",
       "      <td>0</td>\n",
       "    </tr>\n",
       "  </tbody>\n",
       "</table>\n",
       "</div>"
      ],
      "text/plain": [
       "           CustomerId   Surname  CreditScore Geography  Gender  Age  Tenure  \\\n",
       "RowNumber                                                                     \n",
       "1            15634602  Hargrave          619    France  Female   42       2   \n",
       "2            15647311      Hill          608     Spain  Female   41       1   \n",
       "3            15619304      Onio          502    France  Female   42       8   \n",
       "4            15701354      Boni          699    France  Female   39       1   \n",
       "5            15737888  Mitchell          850     Spain  Female   43       2   \n",
       "\n",
       "             Balance  NumOfProducts  HasCrCard  IsActiveMember  \\\n",
       "RowNumber                                                        \n",
       "1               0.00              1          1               1   \n",
       "2           83807.86              1          0               1   \n",
       "3          159660.80              3          1               0   \n",
       "4               0.00              2          0               0   \n",
       "5          125510.82              1          1               1   \n",
       "\n",
       "           EstimatedSalary  Exited  \n",
       "RowNumber                           \n",
       "1                101348.88       1  \n",
       "2                112542.58       0  \n",
       "3                113931.57       1  \n",
       "4                 93826.63       0  \n",
       "5                 79084.10       0  "
      ]
     },
     "execution_count": 166,
     "metadata": {},
     "output_type": "execute_result"
    }
   ],
   "source": [
    "#importing the dataset\n",
    "dataset = pd.read_csv('./Churn_Modelling.csv', index_col='RowNumber')\n",
    "dataset.head()"
   ]
  },
  {
   "cell_type": "code",
   "execution_count": 167,
   "metadata": {},
   "outputs": [
    {
     "name": "stdout",
     "output_type": "stream",
     "text": [
      "All columns: ['CustomerId', 'Surname', 'CreditScore', 'Geography', 'Gender', 'Age', 'Tenure', 'Balance', 'NumOfProducts', 'HasCrCard', 'IsActiveMember', 'EstimatedSalary', 'Exited']\n",
      "\n",
      "X values: ['CreditScore', 'Geography', 'Gender', 'Age', 'Tenure', 'Balance', 'NumOfProducts', 'HasCrCard', 'IsActiveMember', 'EstimatedSalary']\n",
      "\n",
      "y values: ['Exited']\n"
     ]
    }
   ],
   "source": [
    "X_columns = dataset.columns.tolist()[2:12]\n",
    "y_columns = dataset.columns.tolist()[-1:]\n",
    "print(f'All columns: {dataset.columns.tolist()}')\n",
    "print()\n",
    "print(f'X values: {X_columns}')\n",
    "print()\n",
    "print(f'y values: {y_columns}')"
   ]
  },
  {
   "cell_type": "code",
   "execution_count": 168,
   "metadata": {},
   "outputs": [],
   "source": [
    "X = dataset[X_columns].values # Credit Score through Estimated Salary\n",
    "y = dataset[y_columns].values # Exited"
   ]
  },
  {
   "cell_type": "code",
   "execution_count": 169,
   "metadata": {},
   "outputs": [
    {
     "name": "stdout",
     "output_type": "stream",
     "text": [
      "['France' 'Spain' 'France' 'France' 'Spain' 'Spain' 'France' 'Germany'] ... will now become: \n",
      "[0 2 0 0 2 2 0 1]\n"
     ]
    }
   ],
   "source": [
    "# Encoding categorical (string based) data. Country: there are 3 options: France, Spain and Germany\n",
    "# This will convert those strings into scalar values for analysis\n",
    "print(X[:8,1], '... will now become: ')\n",
    "from sklearn.preprocessing import LabelEncoder\n",
    "label_X_country_encoder = LabelEncoder()\n",
    "X[:,1] = label_X_country_encoder.fit_transform(X[:,1])\n",
    "print(X[:8,1])"
   ]
  },
  {
   "cell_type": "code",
   "execution_count": 170,
   "metadata": {},
   "outputs": [
    {
     "name": "stdout",
     "output_type": "stream",
     "text": [
      "['Female' 'Female' 'Female' 'Female' 'Female' 'Male'] ... will now become: \n",
      "[0 0 0 0 0 1]\n"
     ]
    }
   ],
   "source": [
    "# We will do the same thing for gender. this will be binary in this dataset\n",
    "print(X[:6,2], '... will now become: ')\n",
    "from sklearn.preprocessing import LabelEncoder\n",
    "label_X_gender_encoder = LabelEncoder()\n",
    "X[:,2] = label_X_gender_encoder.fit_transform(X[:,2])\n",
    "print(X[:6,2])"
   ]
  },
  {
   "cell_type": "markdown",
   "metadata": {},
   "source": [
    "The Problem here is that we are treating the countries as one variable with ordinal values (0 < 1 <  2). Therefore, one way to get rid of that problem is to split the countries into respective dimensions. \n"
   ]
  },
  {
   "cell_type": "markdown",
   "metadata": {},
   "source": [
    "You can now see that the first three columns represent the three countries that constituted the \"country\" category. We can now observe that  we essentially only need two columns: a 0 on two countries means that the country has to be the one variable which wasn't included. This will save us from the problem of using too many dimensions.\n",
    "\n",
    "\n",
    "We have achieved this using the `drop='first'` option in the OneHotEncoder"
   ]
  },
  {
   "cell_type": "markdown",
   "metadata": {},
   "source": [
    "Feature scaling is a method used to standardize the range of independent variables or features of data. It is basically scaling all the dimensions to be even so that one independent variable does not dominate another. For example, bank account balance ranges from millions to 0, whereas gender is either 0 or 1. If one of the features has a broad range of values, the distance will be governed by this particular feature. Therefore, the range of all features should be normalized so that each feature contributes approximately proportionately to the final distance."
   ]
  },
  {
   "cell_type": "code",
   "execution_count": 171,
   "metadata": {},
   "outputs": [],
   "source": [
    "from sklearn.preprocessing import StandardScaler, OneHotEncoder\n",
    "from sklearn.compose import ColumnTransformer\n",
    "from sklearn.pipeline import Pipeline\n",
    "\n",
    "\n",
    "pipeline = Pipeline(\n",
    "    [('Categorizer', ColumnTransformer(\n",
    "         [ # Gender\n",
    "          (\"Gender Label encoder\", OneHotEncoder(categories='auto', drop='first'), [2]),\n",
    "           # Geography\n",
    "          (\"Geography One Hot\", OneHotEncoder(categories='auto', drop='first'), [1])\n",
    "         ], remainder='passthrough', n_jobs=1)),\n",
    "     # Standard Scaler for the classifier\n",
    "    ('Normalizer', StandardScaler())\n",
    "    ])"
   ]
  },
  {
   "cell_type": "code",
   "execution_count": 172,
   "metadata": {},
   "outputs": [],
   "source": [
    "X = pipeline.fit_transform(X)"
   ]
  },
  {
   "cell_type": "code",
   "execution_count": 173,
   "metadata": {},
   "outputs": [],
   "source": [
    "# Splitting the dataset into the Training and Testing set.\n",
    "from sklearn.model_selection import train_test_split\n",
    "X_train, X_test, y_train, y_test = train_test_split(X,y, test_size = 0.2, random_state = 0)"
   ]
  },
  {
   "cell_type": "code",
   "execution_count": 174,
   "metadata": {},
   "outputs": [
    {
     "name": "stdout",
     "output_type": "stream",
     "text": [
      "training shapes: (8000, 11), (8000, 1)\n",
      "testing shapes: (2000, 11), (2000, 1)\n"
     ]
    }
   ],
   "source": [
    "print(f'training shapes: {X_train.shape}, {y_train.shape}')\n",
    "print(f'testing shapes: {X_test.shape}, {y_test.shape}')"
   ]
  },
  {
   "cell_type": "markdown",
   "metadata": {},
   "source": [
    "### End of Preprocessing"
   ]
  },
  {
   "cell_type": "markdown",
   "metadata": {},
   "source": [
    "Making the NN"
   ]
  },
  {
   "cell_type": "code",
   "execution_count": 175,
   "metadata": {},
   "outputs": [],
   "source": [
    "\n",
    "from keras.models import Sequential\n",
    "from keras.layers import Dense, Dropout"
   ]
  },
  {
   "cell_type": "code",
   "execution_count": 176,
   "metadata": {},
   "outputs": [],
   "source": [
    "classifier = Sequential()"
   ]
  },
  {
   "cell_type": "code",
   "execution_count": 177,
   "metadata": {},
   "outputs": [],
   "source": [
    "classifier.add(Dense(6, activation = 'relu', input_shape = (X_train.shape[1], )))\n",
    "classifier.add(Dropout(rate=0.1)) "
   ]
  },
  {
   "cell_type": "markdown",
   "metadata": {},
   "source": [
    "We are going to add another layer to this model because we want to implement Deep Learning, which is an artificial Neural network with many layers.\n",
    "We will make our second hidden layer also have 6 nodes, just playing with the same arithmetic we used to determine the dimensions of the first hidden layer (average of your input and output layers)  (11+1)÷2=6 ."
   ]
  },
  {
   "cell_type": "code",
   "execution_count": 178,
   "metadata": {},
   "outputs": [],
   "source": [
    "# Adding the second hidden layer\n",
    "# Notice that we do not need to specify input dim. \n",
    "classifier.add(Dense(6, activation = 'relu')) \n",
    "classifier.add(Dropout(rate=0.1)) "
   ]
  },
  {
   "cell_type": "markdown",
   "metadata": {},
   "source": [
    "#### Adding the output layer\n"
   ]
  },
  {
   "cell_type": "markdown",
   "metadata": {},
   "source": [
    "The breakdown of the inputs for the output layer is as follows:\n",
    "activiation: sigmoid becasue we are in an output layer. uses the Sigmoid activation function for  𝜙 . This is used instead of the ReLu function becasue it generates probabilities for the outcome. We want the probability that each customer leaves the bank.\n",
    "\n",
    "units: 6 nodes (number of nodes in hidden layer). Can think of this as number of nodes are in the next layer.\n",
    "\n",
    "input_dim: 11 because we span 11 dimensions in our input layer. This is needed for the first added layer. The subsequent layers's input dimensions can be inferred using the previously added layer's output dimension. The next hidden layer will know what to expect."
   ]
  },
  {
   "cell_type": "code",
   "execution_count": 179,
   "metadata": {},
   "outputs": [],
   "source": [
    "# Adding the output layer\n",
    "# Notice that we do not need to specify input dim. \n",
    "# we have an output of 1 node, which is the the desired dimensions of our output (stay with the bank or not)\n",
    "# We use the sigmoid because we want probability outcomes\n",
    "classifier.add(Dense(1, activation = 'sigmoid')) "
   ]
  },
  {
   "cell_type": "markdown",
   "metadata": {},
   "source": [
    "If we want more than two categories, then we will need to change\n",
    "1) the units parameter to match the desired category count\n",
    "\n",
    "2) the activation field to softmax. Basically a sigmoid function but applied to a dependent variable that has more than 2 categories."
   ]
  },
  {
   "cell_type": "code",
   "execution_count": 180,
   "metadata": {},
   "outputs": [
    {
     "name": "stdout",
     "output_type": "stream",
     "text": [
      "Model: \"sequential_3\"\n",
      "_________________________________________________________________\n",
      " Layer (type)                Output Shape              Param #   \n",
      "=================================================================\n",
      " dense_8 (Dense)             (None, 6)                 72        \n",
      "                                                                 \n",
      " dropout_6 (Dropout)         (None, 6)                 0         \n",
      "                                                                 \n",
      " dense_9 (Dense)             (None, 6)                 42        \n",
      "                                                                 \n",
      " dropout_7 (Dropout)         (None, 6)                 0         \n",
      "                                                                 \n",
      " dense_10 (Dense)            (None, 1)                 7         \n",
      "                                                                 \n",
      "=================================================================\n",
      "Total params: 121\n",
      "Trainable params: 121\n",
      "Non-trainable params: 0\n",
      "_________________________________________________________________\n"
     ]
    }
   ],
   "source": [
    "classifier.summary()"
   ]
  },
  {
   "cell_type": "markdown",
   "metadata": {},
   "source": [
    "Basically applying Stochastic Gradient descent on the whole Neural Network. We are Tuning the individual weights on each neuron.\n",
    "\n",
    "The breakdown of the inputs for compiling is as follows:\n",
    "\n",
    "\n",
    "`optimizer`: adam The algorithm we want to use to find the optimal set of weights in the neural networks. Adam is a very efficeint variation of Stochastic Gradient Descent.\n",
    "\n",
    "`loss`: binary_crossentropy This is the loss function used within adam. This should be the logarthmic loss. If our dependent (output variable) is Binary, it is binary_crossentropy. If Categorical, then it is called categorical_crossentropy\n",
    "\n",
    "`metrics`: [accuracy] The accuracy metrics which will be evaluated(minimized) by the model. Used as accuracy criteria to imporve model performance."
   ]
  },
  {
   "cell_type": "code",
   "execution_count": 181,
   "metadata": {},
   "outputs": [],
   "source": [
    "classifier.compile(optimizer='adam', loss = 'binary_crossentropy', metrics=['accuracy'])"
   ]
  },
  {
   "cell_type": "markdown",
   "metadata": {},
   "source": [
    "### Fitting the Neural Network\n",
    "\n",
    "The breakdown of the inputs for compiling is as follows:\n",
    "\n",
    "`X_train`: The independent variable portion of the data which needs to be fitted with the model.\n",
    "\n",
    "`Y_train`: The output portion of the data which the model needs to produce after fitting.\n",
    "\n",
    "`batch_size`: How often we want to back-propogate the error values so that individual node weights can be adjusted.\n",
    "\n",
    "`epochs`: The number of times we want to run the entire test data over again to tune the weights. This is like the fuel of the algorithm.\n",
    "\n",
    "`validation_split`: 0.2 The fraction of data to use for validation data."
   ]
  },
  {
   "cell_type": "code",
   "execution_count": 182,
   "metadata": {},
   "outputs": [
    {
     "name": "stdout",
     "output_type": "stream",
     "text": [
      "Epoch 1/200\n",
      "225/225 - 0s - loss: 0.5536 - accuracy: 0.7804 - val_loss: 0.4847 - val_accuracy: 0.7950 - 457ms/epoch - 2ms/step\n",
      "Epoch 2/200\n",
      "225/225 - 0s - loss: 0.4943 - accuracy: 0.7946 - val_loss: 0.4500 - val_accuracy: 0.7950 - 93ms/epoch - 412us/step\n",
      "Epoch 3/200\n",
      "225/225 - 0s - loss: 0.4724 - accuracy: 0.7961 - val_loss: 0.4327 - val_accuracy: 0.7950 - 93ms/epoch - 415us/step\n",
      "Epoch 4/200\n",
      "225/225 - 0s - loss: 0.4556 - accuracy: 0.7960 - val_loss: 0.4221 - val_accuracy: 0.7950 - 92ms/epoch - 408us/step\n",
      "Epoch 5/200\n",
      "225/225 - 0s - loss: 0.4479 - accuracy: 0.7968 - val_loss: 0.4139 - val_accuracy: 0.7962 - 92ms/epoch - 410us/step\n",
      "Epoch 6/200\n",
      "225/225 - 0s - loss: 0.4424 - accuracy: 0.8025 - val_loss: 0.4063 - val_accuracy: 0.8112 - 90ms/epoch - 402us/step\n",
      "Epoch 7/200\n",
      "225/225 - 0s - loss: 0.4342 - accuracy: 0.8071 - val_loss: 0.3999 - val_accuracy: 0.8188 - 98ms/epoch - 435us/step\n",
      "Epoch 8/200\n",
      "225/225 - 0s - loss: 0.4268 - accuracy: 0.8107 - val_loss: 0.3951 - val_accuracy: 0.8225 - 91ms/epoch - 403us/step\n",
      "Epoch 9/200\n",
      "225/225 - 0s - loss: 0.4270 - accuracy: 0.8133 - val_loss: 0.3898 - val_accuracy: 0.8275 - 91ms/epoch - 403us/step\n",
      "Epoch 10/200\n",
      "225/225 - 0s - loss: 0.4222 - accuracy: 0.8115 - val_loss: 0.3861 - val_accuracy: 0.8225 - 96ms/epoch - 427us/step\n",
      "Epoch 11/200\n",
      "225/225 - 0s - loss: 0.4186 - accuracy: 0.8138 - val_loss: 0.3818 - val_accuracy: 0.8288 - 94ms/epoch - 417us/step\n",
      "Epoch 12/200\n",
      "225/225 - 0s - loss: 0.4178 - accuracy: 0.8181 - val_loss: 0.3785 - val_accuracy: 0.8325 - 93ms/epoch - 412us/step\n",
      "Epoch 13/200\n",
      "225/225 - 0s - loss: 0.4147 - accuracy: 0.8132 - val_loss: 0.3760 - val_accuracy: 0.8300 - 91ms/epoch - 407us/step\n",
      "Epoch 14/200\n",
      "225/225 - 0s - loss: 0.4145 - accuracy: 0.8153 - val_loss: 0.3742 - val_accuracy: 0.8250 - 91ms/epoch - 404us/step\n",
      "Epoch 15/200\n",
      "225/225 - 0s - loss: 0.4128 - accuracy: 0.8172 - val_loss: 0.3726 - val_accuracy: 0.8300 - 90ms/epoch - 402us/step\n",
      "Epoch 16/200\n",
      "225/225 - 0s - loss: 0.4126 - accuracy: 0.8185 - val_loss: 0.3711 - val_accuracy: 0.8263 - 88ms/epoch - 389us/step\n",
      "Epoch 17/200\n",
      "225/225 - 0s - loss: 0.4026 - accuracy: 0.8272 - val_loss: 0.3672 - val_accuracy: 0.8263 - 94ms/epoch - 417us/step\n",
      "Epoch 18/200\n",
      "225/225 - 0s - loss: 0.4034 - accuracy: 0.8251 - val_loss: 0.3654 - val_accuracy: 0.8300 - 92ms/epoch - 409us/step\n",
      "Epoch 19/200\n",
      "225/225 - 0s - loss: 0.4041 - accuracy: 0.8250 - val_loss: 0.3628 - val_accuracy: 0.8325 - 95ms/epoch - 423us/step\n",
      "Epoch 20/200\n",
      "225/225 - 0s - loss: 0.4010 - accuracy: 0.8214 - val_loss: 0.3611 - val_accuracy: 0.8325 - 89ms/epoch - 396us/step\n",
      "Epoch 21/200\n",
      "225/225 - 0s - loss: 0.3968 - accuracy: 0.8292 - val_loss: 0.3606 - val_accuracy: 0.8388 - 91ms/epoch - 406us/step\n",
      "Epoch 22/200\n",
      "225/225 - 0s - loss: 0.3968 - accuracy: 0.8322 - val_loss: 0.3597 - val_accuracy: 0.8313 - 94ms/epoch - 416us/step\n",
      "Epoch 23/200\n",
      "225/225 - 0s - loss: 0.3925 - accuracy: 0.8281 - val_loss: 0.3580 - val_accuracy: 0.8388 - 88ms/epoch - 393us/step\n",
      "Epoch 24/200\n",
      "225/225 - 0s - loss: 0.3919 - accuracy: 0.8279 - val_loss: 0.3563 - val_accuracy: 0.8438 - 96ms/epoch - 427us/step\n",
      "Epoch 25/200\n",
      "225/225 - 0s - loss: 0.3898 - accuracy: 0.8311 - val_loss: 0.3568 - val_accuracy: 0.8413 - 94ms/epoch - 416us/step\n",
      "Epoch 26/200\n",
      "225/225 - 0s - loss: 0.3898 - accuracy: 0.8314 - val_loss: 0.3539 - val_accuracy: 0.8438 - 93ms/epoch - 412us/step\n",
      "Epoch 27/200\n",
      "225/225 - 0s - loss: 0.3887 - accuracy: 0.8347 - val_loss: 0.3521 - val_accuracy: 0.8450 - 93ms/epoch - 411us/step\n",
      "Epoch 28/200\n",
      "225/225 - 0s - loss: 0.3835 - accuracy: 0.8319 - val_loss: 0.3506 - val_accuracy: 0.8475 - 93ms/epoch - 413us/step\n",
      "Epoch 29/200\n",
      "225/225 - 0s - loss: 0.3863 - accuracy: 0.8332 - val_loss: 0.3506 - val_accuracy: 0.8500 - 92ms/epoch - 408us/step\n",
      "Epoch 30/200\n",
      "225/225 - 0s - loss: 0.3794 - accuracy: 0.8378 - val_loss: 0.3488 - val_accuracy: 0.8512 - 92ms/epoch - 407us/step\n",
      "Epoch 31/200\n",
      "225/225 - 0s - loss: 0.3792 - accuracy: 0.8368 - val_loss: 0.3468 - val_accuracy: 0.8512 - 91ms/epoch - 404us/step\n",
      "Epoch 32/200\n",
      "225/225 - 0s - loss: 0.3785 - accuracy: 0.8378 - val_loss: 0.3454 - val_accuracy: 0.8537 - 91ms/epoch - 404us/step\n",
      "Epoch 33/200\n",
      "225/225 - 0s - loss: 0.3784 - accuracy: 0.8344 - val_loss: 0.3470 - val_accuracy: 0.8487 - 92ms/epoch - 407us/step\n",
      "Epoch 34/200\n",
      "225/225 - 0s - loss: 0.3801 - accuracy: 0.8378 - val_loss: 0.3469 - val_accuracy: 0.8525 - 91ms/epoch - 406us/step\n",
      "Epoch 35/200\n",
      "225/225 - 0s - loss: 0.3772 - accuracy: 0.8338 - val_loss: 0.3446 - val_accuracy: 0.8537 - 90ms/epoch - 402us/step\n",
      "Epoch 36/200\n",
      "225/225 - 0s - loss: 0.3720 - accuracy: 0.8369 - val_loss: 0.3427 - val_accuracy: 0.8550 - 90ms/epoch - 402us/step\n",
      "Epoch 37/200\n",
      "225/225 - 0s - loss: 0.3719 - accuracy: 0.8378 - val_loss: 0.3424 - val_accuracy: 0.8525 - 91ms/epoch - 404us/step\n",
      "Epoch 38/200\n",
      "225/225 - 0s - loss: 0.3738 - accuracy: 0.8410 - val_loss: 0.3405 - val_accuracy: 0.8562 - 91ms/epoch - 403us/step\n",
      "Epoch 39/200\n",
      "225/225 - 0s - loss: 0.3755 - accuracy: 0.8400 - val_loss: 0.3413 - val_accuracy: 0.8525 - 100ms/epoch - 444us/step\n",
      "Epoch 40/200\n",
      "225/225 - 0s - loss: 0.3749 - accuracy: 0.8364 - val_loss: 0.3416 - val_accuracy: 0.8550 - 89ms/epoch - 396us/step\n",
      "Epoch 41/200\n",
      "225/225 - 0s - loss: 0.3770 - accuracy: 0.8357 - val_loss: 0.3407 - val_accuracy: 0.8550 - 88ms/epoch - 391us/step\n",
      "Epoch 42/200\n",
      "225/225 - 0s - loss: 0.3721 - accuracy: 0.8408 - val_loss: 0.3399 - val_accuracy: 0.8562 - 89ms/epoch - 394us/step\n",
      "Epoch 43/200\n",
      "225/225 - 0s - loss: 0.3709 - accuracy: 0.8415 - val_loss: 0.3391 - val_accuracy: 0.8562 - 86ms/epoch - 384us/step\n",
      "Epoch 44/200\n",
      "225/225 - 0s - loss: 0.3690 - accuracy: 0.8414 - val_loss: 0.3394 - val_accuracy: 0.8525 - 88ms/epoch - 390us/step\n",
      "Epoch 45/200\n",
      "225/225 - 0s - loss: 0.3726 - accuracy: 0.8419 - val_loss: 0.3386 - val_accuracy: 0.8537 - 88ms/epoch - 389us/step\n",
      "Epoch 46/200\n",
      "225/225 - 0s - loss: 0.3736 - accuracy: 0.8381 - val_loss: 0.3381 - val_accuracy: 0.8550 - 88ms/epoch - 392us/step\n",
      "Epoch 47/200\n",
      "225/225 - 0s - loss: 0.3659 - accuracy: 0.8428 - val_loss: 0.3384 - val_accuracy: 0.8537 - 88ms/epoch - 392us/step\n",
      "Epoch 48/200\n",
      "225/225 - 0s - loss: 0.3686 - accuracy: 0.8418 - val_loss: 0.3371 - val_accuracy: 0.8575 - 89ms/epoch - 394us/step\n",
      "Epoch 49/200\n",
      "225/225 - 0s - loss: 0.3729 - accuracy: 0.8381 - val_loss: 0.3379 - val_accuracy: 0.8525 - 88ms/epoch - 389us/step\n",
      "Epoch 50/200\n",
      "225/225 - 0s - loss: 0.3732 - accuracy: 0.8388 - val_loss: 0.3378 - val_accuracy: 0.8550 - 88ms/epoch - 392us/step\n",
      "Epoch 51/200\n",
      "225/225 - 0s - loss: 0.3685 - accuracy: 0.8424 - val_loss: 0.3363 - val_accuracy: 0.8587 - 87ms/epoch - 387us/step\n",
      "Epoch 52/200\n",
      "225/225 - 0s - loss: 0.3717 - accuracy: 0.8399 - val_loss: 0.3352 - val_accuracy: 0.8600 - 88ms/epoch - 392us/step\n",
      "Epoch 53/200\n",
      "225/225 - 0s - loss: 0.3680 - accuracy: 0.8415 - val_loss: 0.3352 - val_accuracy: 0.8575 - 89ms/epoch - 396us/step\n",
      "Epoch 54/200\n",
      "225/225 - 0s - loss: 0.3716 - accuracy: 0.8425 - val_loss: 0.3355 - val_accuracy: 0.8537 - 88ms/epoch - 392us/step\n",
      "Epoch 55/200\n",
      "225/225 - 0s - loss: 0.3666 - accuracy: 0.8444 - val_loss: 0.3364 - val_accuracy: 0.8550 - 88ms/epoch - 391us/step\n",
      "Epoch 56/200\n",
      "225/225 - 0s - loss: 0.3697 - accuracy: 0.8450 - val_loss: 0.3350 - val_accuracy: 0.8575 - 89ms/epoch - 396us/step\n",
      "Epoch 57/200\n",
      "225/225 - 0s - loss: 0.3675 - accuracy: 0.8432 - val_loss: 0.3354 - val_accuracy: 0.8550 - 91ms/epoch - 405us/step\n",
      "Epoch 58/200\n",
      "225/225 - 0s - loss: 0.3685 - accuracy: 0.8439 - val_loss: 0.3346 - val_accuracy: 0.8537 - 90ms/epoch - 399us/step\n",
      "Epoch 59/200\n",
      "225/225 - 0s - loss: 0.3669 - accuracy: 0.8450 - val_loss: 0.3358 - val_accuracy: 0.8537 - 88ms/epoch - 390us/step\n",
      "Epoch 60/200\n",
      "225/225 - 0s - loss: 0.3716 - accuracy: 0.8426 - val_loss: 0.3359 - val_accuracy: 0.8525 - 148ms/epoch - 657us/step\n",
      "Epoch 61/200\n",
      "225/225 - 0s - loss: 0.3677 - accuracy: 0.8442 - val_loss: 0.3362 - val_accuracy: 0.8537 - 165ms/epoch - 734us/step\n",
      "Epoch 62/200\n",
      "225/225 - 0s - loss: 0.3674 - accuracy: 0.8432 - val_loss: 0.3368 - val_accuracy: 0.8487 - 98ms/epoch - 437us/step\n",
      "Epoch 63/200\n",
      "225/225 - 0s - loss: 0.3657 - accuracy: 0.8446 - val_loss: 0.3344 - val_accuracy: 0.8562 - 92ms/epoch - 408us/step\n",
      "Epoch 64/200\n",
      "225/225 - 0s - loss: 0.3647 - accuracy: 0.8474 - val_loss: 0.3345 - val_accuracy: 0.8562 - 115ms/epoch - 512us/step\n",
      "Epoch 65/200\n",
      "225/225 - 0s - loss: 0.3681 - accuracy: 0.8438 - val_loss: 0.3347 - val_accuracy: 0.8537 - 93ms/epoch - 412us/step\n",
      "Epoch 66/200\n",
      "225/225 - 0s - loss: 0.3652 - accuracy: 0.8451 - val_loss: 0.3328 - val_accuracy: 0.8537 - 93ms/epoch - 414us/step\n",
      "Epoch 67/200\n",
      "225/225 - 0s - loss: 0.3686 - accuracy: 0.8410 - val_loss: 0.3349 - val_accuracy: 0.8537 - 89ms/epoch - 398us/step\n",
      "Epoch 68/200\n",
      "225/225 - 0s - loss: 0.3658 - accuracy: 0.8447 - val_loss: 0.3324 - val_accuracy: 0.8537 - 91ms/epoch - 403us/step\n",
      "Epoch 69/200\n",
      "225/225 - 0s - loss: 0.3632 - accuracy: 0.8464 - val_loss: 0.3324 - val_accuracy: 0.8562 - 91ms/epoch - 406us/step\n",
      "Epoch 70/200\n",
      "225/225 - 0s - loss: 0.3651 - accuracy: 0.8451 - val_loss: 0.3309 - val_accuracy: 0.8612 - 92ms/epoch - 410us/step\n",
      "Epoch 71/200\n",
      "225/225 - 0s - loss: 0.3642 - accuracy: 0.8429 - val_loss: 0.3320 - val_accuracy: 0.8550 - 91ms/epoch - 407us/step\n",
      "Epoch 72/200\n",
      "225/225 - 0s - loss: 0.3681 - accuracy: 0.8435 - val_loss: 0.3312 - val_accuracy: 0.8550 - 93ms/epoch - 415us/step\n",
      "Epoch 73/200\n",
      "225/225 - 0s - loss: 0.3668 - accuracy: 0.8465 - val_loss: 0.3304 - val_accuracy: 0.8587 - 91ms/epoch - 405us/step\n",
      "Epoch 74/200\n",
      "225/225 - 0s - loss: 0.3677 - accuracy: 0.8431 - val_loss: 0.3316 - val_accuracy: 0.8550 - 92ms/epoch - 408us/step\n",
      "Epoch 75/200\n",
      "225/225 - 0s - loss: 0.3713 - accuracy: 0.8431 - val_loss: 0.3303 - val_accuracy: 0.8550 - 90ms/epoch - 402us/step\n",
      "Epoch 76/200\n",
      "225/225 - 0s - loss: 0.3670 - accuracy: 0.8449 - val_loss: 0.3300 - val_accuracy: 0.8600 - 93ms/epoch - 411us/step\n",
      "Epoch 77/200\n",
      "225/225 - 0s - loss: 0.3655 - accuracy: 0.8397 - val_loss: 0.3303 - val_accuracy: 0.8575 - 89ms/epoch - 397us/step\n",
      "Epoch 78/200\n",
      "225/225 - 0s - loss: 0.3688 - accuracy: 0.8410 - val_loss: 0.3294 - val_accuracy: 0.8562 - 91ms/epoch - 404us/step\n",
      "Epoch 79/200\n",
      "225/225 - 0s - loss: 0.3674 - accuracy: 0.8447 - val_loss: 0.3295 - val_accuracy: 0.8587 - 88ms/epoch - 393us/step\n",
      "Epoch 80/200\n",
      "225/225 - 0s - loss: 0.3640 - accuracy: 0.8476 - val_loss: 0.3292 - val_accuracy: 0.8575 - 90ms/epoch - 402us/step\n",
      "Epoch 81/200\n",
      "225/225 - 0s - loss: 0.3639 - accuracy: 0.8450 - val_loss: 0.3277 - val_accuracy: 0.8625 - 89ms/epoch - 397us/step\n",
      "Epoch 82/200\n",
      "225/225 - 0s - loss: 0.3673 - accuracy: 0.8460 - val_loss: 0.3275 - val_accuracy: 0.8600 - 90ms/epoch - 401us/step\n",
      "Epoch 83/200\n",
      "225/225 - 0s - loss: 0.3633 - accuracy: 0.8457 - val_loss: 0.3279 - val_accuracy: 0.8637 - 91ms/epoch - 405us/step\n",
      "Epoch 84/200\n",
      "225/225 - 0s - loss: 0.3615 - accuracy: 0.8482 - val_loss: 0.3283 - val_accuracy: 0.8575 - 90ms/epoch - 400us/step\n",
      "Epoch 85/200\n",
      "225/225 - 0s - loss: 0.3613 - accuracy: 0.8447 - val_loss: 0.3296 - val_accuracy: 0.8587 - 90ms/epoch - 400us/step\n",
      "Epoch 86/200\n",
      "225/225 - 0s - loss: 0.3662 - accuracy: 0.8450 - val_loss: 0.3281 - val_accuracy: 0.8600 - 90ms/epoch - 399us/step\n",
      "Epoch 87/200\n",
      "225/225 - 0s - loss: 0.3638 - accuracy: 0.8453 - val_loss: 0.3286 - val_accuracy: 0.8600 - 94ms/epoch - 418us/step\n",
      "Epoch 88/200\n",
      "225/225 - 0s - loss: 0.3626 - accuracy: 0.8481 - val_loss: 0.3276 - val_accuracy: 0.8600 - 90ms/epoch - 399us/step\n",
      "Epoch 89/200\n",
      "225/225 - 0s - loss: 0.3634 - accuracy: 0.8454 - val_loss: 0.3274 - val_accuracy: 0.8637 - 87ms/epoch - 388us/step\n",
      "Epoch 90/200\n",
      "225/225 - 0s - loss: 0.3622 - accuracy: 0.8461 - val_loss: 0.3281 - val_accuracy: 0.8600 - 91ms/epoch - 404us/step\n",
      "Epoch 91/200\n",
      "225/225 - 0s - loss: 0.3605 - accuracy: 0.8493 - val_loss: 0.3286 - val_accuracy: 0.8587 - 91ms/epoch - 405us/step\n",
      "Epoch 92/200\n",
      "225/225 - 0s - loss: 0.3660 - accuracy: 0.8487 - val_loss: 0.3274 - val_accuracy: 0.8587 - 91ms/epoch - 403us/step\n",
      "Epoch 93/200\n",
      "225/225 - 0s - loss: 0.3612 - accuracy: 0.8472 - val_loss: 0.3274 - val_accuracy: 0.8650 - 91ms/epoch - 404us/step\n",
      "Epoch 94/200\n",
      "225/225 - 0s - loss: 0.3681 - accuracy: 0.8414 - val_loss: 0.3296 - val_accuracy: 0.8587 - 91ms/epoch - 403us/step\n",
      "Epoch 95/200\n",
      "225/225 - 0s - loss: 0.3599 - accuracy: 0.8461 - val_loss: 0.3277 - val_accuracy: 0.8637 - 91ms/epoch - 406us/step\n",
      "Epoch 96/200\n",
      "225/225 - 0s - loss: 0.3624 - accuracy: 0.8457 - val_loss: 0.3284 - val_accuracy: 0.8637 - 90ms/epoch - 398us/step\n",
      "Epoch 97/200\n",
      "225/225 - 0s - loss: 0.3642 - accuracy: 0.8449 - val_loss: 0.3276 - val_accuracy: 0.8587 - 91ms/epoch - 405us/step\n",
      "Epoch 98/200\n",
      "225/225 - 0s - loss: 0.3671 - accuracy: 0.8426 - val_loss: 0.3294 - val_accuracy: 0.8600 - 90ms/epoch - 400us/step\n",
      "Epoch 99/200\n",
      "225/225 - 0s - loss: 0.3657 - accuracy: 0.8464 - val_loss: 0.3314 - val_accuracy: 0.8575 - 90ms/epoch - 401us/step\n",
      "Epoch 100/200\n",
      "225/225 - 0s - loss: 0.3632 - accuracy: 0.8485 - val_loss: 0.3283 - val_accuracy: 0.8575 - 89ms/epoch - 396us/step\n",
      "Epoch 101/200\n",
      "225/225 - 0s - loss: 0.3635 - accuracy: 0.8458 - val_loss: 0.3282 - val_accuracy: 0.8650 - 92ms/epoch - 408us/step\n",
      "Epoch 102/200\n",
      "225/225 - 0s - loss: 0.3595 - accuracy: 0.8483 - val_loss: 0.3271 - val_accuracy: 0.8650 - 91ms/epoch - 403us/step\n",
      "Epoch 103/200\n",
      "225/225 - 0s - loss: 0.3638 - accuracy: 0.8501 - val_loss: 0.3276 - val_accuracy: 0.8612 - 92ms/epoch - 407us/step\n",
      "Epoch 104/200\n",
      "225/225 - 0s - loss: 0.3630 - accuracy: 0.8476 - val_loss: 0.3269 - val_accuracy: 0.8625 - 90ms/epoch - 399us/step\n",
      "Epoch 105/200\n",
      "225/225 - 0s - loss: 0.3571 - accuracy: 0.8507 - val_loss: 0.3288 - val_accuracy: 0.8600 - 91ms/epoch - 403us/step\n",
      "Epoch 106/200\n",
      "225/225 - 0s - loss: 0.3653 - accuracy: 0.8456 - val_loss: 0.3276 - val_accuracy: 0.8625 - 90ms/epoch - 398us/step\n",
      "Epoch 107/200\n",
      "225/225 - 0s - loss: 0.3620 - accuracy: 0.8476 - val_loss: 0.3280 - val_accuracy: 0.8612 - 91ms/epoch - 403us/step\n",
      "Epoch 108/200\n",
      "225/225 - 0s - loss: 0.3615 - accuracy: 0.8453 - val_loss: 0.3266 - val_accuracy: 0.8625 - 91ms/epoch - 404us/step\n",
      "Epoch 109/200\n",
      "225/225 - 0s - loss: 0.3625 - accuracy: 0.8481 - val_loss: 0.3266 - val_accuracy: 0.8662 - 89ms/epoch - 396us/step\n",
      "Epoch 110/200\n",
      "225/225 - 0s - loss: 0.3609 - accuracy: 0.8456 - val_loss: 0.3266 - val_accuracy: 0.8625 - 89ms/epoch - 396us/step\n",
      "Epoch 111/200\n",
      "225/225 - 0s - loss: 0.3600 - accuracy: 0.8485 - val_loss: 0.3262 - val_accuracy: 0.8612 - 89ms/epoch - 397us/step\n",
      "Epoch 112/200\n",
      "225/225 - 0s - loss: 0.3608 - accuracy: 0.8462 - val_loss: 0.3275 - val_accuracy: 0.8625 - 95ms/epoch - 422us/step\n",
      "Epoch 113/200\n",
      "225/225 - 0s - loss: 0.3655 - accuracy: 0.8450 - val_loss: 0.3270 - val_accuracy: 0.8625 - 92ms/epoch - 407us/step\n",
      "Epoch 114/200\n",
      "225/225 - 0s - loss: 0.3628 - accuracy: 0.8442 - val_loss: 0.3297 - val_accuracy: 0.8587 - 90ms/epoch - 401us/step\n",
      "Epoch 115/200\n",
      "225/225 - 0s - loss: 0.3639 - accuracy: 0.8475 - val_loss: 0.3267 - val_accuracy: 0.8600 - 90ms/epoch - 401us/step\n",
      "Epoch 116/200\n",
      "225/225 - 0s - loss: 0.3624 - accuracy: 0.8467 - val_loss: 0.3285 - val_accuracy: 0.8612 - 91ms/epoch - 403us/step\n",
      "Epoch 117/200\n",
      "225/225 - 0s - loss: 0.3649 - accuracy: 0.8465 - val_loss: 0.3281 - val_accuracy: 0.8600 - 89ms/epoch - 397us/step\n",
      "Epoch 118/200\n",
      "225/225 - 0s - loss: 0.3614 - accuracy: 0.8465 - val_loss: 0.3262 - val_accuracy: 0.8687 - 92ms/epoch - 409us/step\n",
      "Epoch 119/200\n",
      "225/225 - 0s - loss: 0.3622 - accuracy: 0.8460 - val_loss: 0.3280 - val_accuracy: 0.8625 - 90ms/epoch - 402us/step\n",
      "Epoch 120/200\n",
      "225/225 - 0s - loss: 0.3627 - accuracy: 0.8471 - val_loss: 0.3269 - val_accuracy: 0.8612 - 90ms/epoch - 402us/step\n",
      "Epoch 121/200\n",
      "225/225 - 0s - loss: 0.3630 - accuracy: 0.8464 - val_loss: 0.3250 - val_accuracy: 0.8662 - 88ms/epoch - 392us/step\n",
      "Epoch 122/200\n",
      "225/225 - 0s - loss: 0.3595 - accuracy: 0.8490 - val_loss: 0.3251 - val_accuracy: 0.8625 - 90ms/epoch - 398us/step\n",
      "Epoch 123/200\n",
      "225/225 - 0s - loss: 0.3604 - accuracy: 0.8464 - val_loss: 0.3258 - val_accuracy: 0.8600 - 91ms/epoch - 403us/step\n",
      "Epoch 124/200\n",
      "225/225 - 0s - loss: 0.3580 - accuracy: 0.8503 - val_loss: 0.3254 - val_accuracy: 0.8612 - 90ms/epoch - 402us/step\n",
      "Epoch 125/200\n",
      "225/225 - 0s - loss: 0.3627 - accuracy: 0.8467 - val_loss: 0.3278 - val_accuracy: 0.8562 - 90ms/epoch - 402us/step\n",
      "Epoch 126/200\n",
      "225/225 - 0s - loss: 0.3638 - accuracy: 0.8456 - val_loss: 0.3280 - val_accuracy: 0.8550 - 90ms/epoch - 400us/step\n",
      "Epoch 127/200\n",
      "225/225 - 0s - loss: 0.3601 - accuracy: 0.8499 - val_loss: 0.3264 - val_accuracy: 0.8587 - 90ms/epoch - 402us/step\n",
      "Epoch 128/200\n",
      "225/225 - 0s - loss: 0.3636 - accuracy: 0.8446 - val_loss: 0.3256 - val_accuracy: 0.8637 - 90ms/epoch - 402us/step\n",
      "Epoch 129/200\n",
      "225/225 - 0s - loss: 0.3619 - accuracy: 0.8471 - val_loss: 0.3260 - val_accuracy: 0.8625 - 90ms/epoch - 402us/step\n",
      "Epoch 130/200\n",
      "225/225 - 0s - loss: 0.3579 - accuracy: 0.8500 - val_loss: 0.3259 - val_accuracy: 0.8625 - 89ms/epoch - 397us/step\n",
      "Epoch 131/200\n",
      "225/225 - 0s - loss: 0.3647 - accuracy: 0.8449 - val_loss: 0.3263 - val_accuracy: 0.8587 - 90ms/epoch - 402us/step\n",
      "Epoch 132/200\n",
      "225/225 - 0s - loss: 0.3653 - accuracy: 0.8468 - val_loss: 0.3260 - val_accuracy: 0.8625 - 89ms/epoch - 396us/step\n",
      "Epoch 133/200\n",
      "225/225 - 0s - loss: 0.3633 - accuracy: 0.8471 - val_loss: 0.3254 - val_accuracy: 0.8612 - 91ms/epoch - 404us/step\n",
      "Epoch 134/200\n",
      "225/225 - 0s - loss: 0.3594 - accuracy: 0.8471 - val_loss: 0.3269 - val_accuracy: 0.8575 - 91ms/epoch - 404us/step\n",
      "Epoch 135/200\n",
      "225/225 - 0s - loss: 0.3627 - accuracy: 0.8454 - val_loss: 0.3263 - val_accuracy: 0.8575 - 90ms/epoch - 402us/step\n",
      "Epoch 136/200\n",
      "225/225 - 0s - loss: 0.3634 - accuracy: 0.8464 - val_loss: 0.3260 - val_accuracy: 0.8575 - 90ms/epoch - 400us/step\n",
      "Epoch 137/200\n",
      "225/225 - 0s - loss: 0.3618 - accuracy: 0.8499 - val_loss: 0.3263 - val_accuracy: 0.8600 - 90ms/epoch - 401us/step\n",
      "Epoch 138/200\n",
      "225/225 - 0s - loss: 0.3630 - accuracy: 0.8460 - val_loss: 0.3270 - val_accuracy: 0.8575 - 96ms/epoch - 429us/step\n",
      "Epoch 139/200\n",
      "225/225 - 0s - loss: 0.3650 - accuracy: 0.8449 - val_loss: 0.3268 - val_accuracy: 0.8587 - 94ms/epoch - 417us/step\n",
      "Epoch 140/200\n",
      "225/225 - 0s - loss: 0.3614 - accuracy: 0.8456 - val_loss: 0.3265 - val_accuracy: 0.8600 - 90ms/epoch - 400us/step\n",
      "Epoch 141/200\n",
      "225/225 - 0s - loss: 0.3617 - accuracy: 0.8485 - val_loss: 0.3253 - val_accuracy: 0.8587 - 89ms/epoch - 396us/step\n",
      "Epoch 142/200\n",
      "225/225 - 0s - loss: 0.3613 - accuracy: 0.8476 - val_loss: 0.3252 - val_accuracy: 0.8612 - 92ms/epoch - 409us/step\n",
      "Epoch 143/200\n",
      "225/225 - 0s - loss: 0.3641 - accuracy: 0.8481 - val_loss: 0.3265 - val_accuracy: 0.8600 - 89ms/epoch - 395us/step\n",
      "Epoch 144/200\n",
      "225/225 - 0s - loss: 0.3641 - accuracy: 0.8483 - val_loss: 0.3279 - val_accuracy: 0.8587 - 90ms/epoch - 400us/step\n",
      "Epoch 145/200\n",
      "225/225 - 0s - loss: 0.3596 - accuracy: 0.8500 - val_loss: 0.3263 - val_accuracy: 0.8600 - 91ms/epoch - 406us/step\n",
      "Epoch 146/200\n",
      "225/225 - 0s - loss: 0.3627 - accuracy: 0.8475 - val_loss: 0.3257 - val_accuracy: 0.8612 - 91ms/epoch - 403us/step\n",
      "Epoch 147/200\n",
      "225/225 - 0s - loss: 0.3607 - accuracy: 0.8486 - val_loss: 0.3272 - val_accuracy: 0.8575 - 91ms/epoch - 406us/step\n",
      "Epoch 148/200\n",
      "225/225 - 0s - loss: 0.3635 - accuracy: 0.8456 - val_loss: 0.3277 - val_accuracy: 0.8575 - 104ms/epoch - 460us/step\n",
      "Epoch 149/200\n",
      "225/225 - 0s - loss: 0.3664 - accuracy: 0.8447 - val_loss: 0.3270 - val_accuracy: 0.8600 - 91ms/epoch - 403us/step\n",
      "Epoch 150/200\n",
      "225/225 - 0s - loss: 0.3614 - accuracy: 0.8486 - val_loss: 0.3271 - val_accuracy: 0.8600 - 91ms/epoch - 405us/step\n",
      "Epoch 151/200\n",
      "225/225 - 0s - loss: 0.3650 - accuracy: 0.8468 - val_loss: 0.3269 - val_accuracy: 0.8587 - 90ms/epoch - 401us/step\n",
      "Epoch 152/200\n",
      "225/225 - 0s - loss: 0.3626 - accuracy: 0.8462 - val_loss: 0.3280 - val_accuracy: 0.8562 - 91ms/epoch - 402us/step\n",
      "Epoch 153/200\n",
      "225/225 - 0s - loss: 0.3615 - accuracy: 0.8489 - val_loss: 0.3256 - val_accuracy: 0.8587 - 89ms/epoch - 394us/step\n",
      "Epoch 154/200\n",
      "225/225 - 0s - loss: 0.3588 - accuracy: 0.8490 - val_loss: 0.3263 - val_accuracy: 0.8587 - 90ms/epoch - 401us/step\n",
      "Epoch 155/200\n",
      "225/225 - 0s - loss: 0.3626 - accuracy: 0.8471 - val_loss: 0.3279 - val_accuracy: 0.8562 - 88ms/epoch - 393us/step\n",
      "Epoch 156/200\n",
      "225/225 - 0s - loss: 0.3623 - accuracy: 0.8467 - val_loss: 0.3263 - val_accuracy: 0.8612 - 90ms/epoch - 402us/step\n",
      "Epoch 157/200\n",
      "225/225 - 0s - loss: 0.3611 - accuracy: 0.8469 - val_loss: 0.3275 - val_accuracy: 0.8600 - 91ms/epoch - 404us/step\n",
      "Epoch 158/200\n",
      "225/225 - 0s - loss: 0.3596 - accuracy: 0.8483 - val_loss: 0.3277 - val_accuracy: 0.8575 - 91ms/epoch - 405us/step\n",
      "Epoch 159/200\n",
      "225/225 - 0s - loss: 0.3560 - accuracy: 0.8518 - val_loss: 0.3249 - val_accuracy: 0.8612 - 90ms/epoch - 402us/step\n",
      "Epoch 160/200\n",
      "225/225 - 0s - loss: 0.3661 - accuracy: 0.8447 - val_loss: 0.3261 - val_accuracy: 0.8600 - 90ms/epoch - 399us/step\n",
      "Epoch 161/200\n",
      "225/225 - 0s - loss: 0.3587 - accuracy: 0.8507 - val_loss: 0.3245 - val_accuracy: 0.8625 - 91ms/epoch - 405us/step\n",
      "Epoch 162/200\n",
      "225/225 - 0s - loss: 0.3597 - accuracy: 0.8469 - val_loss: 0.3251 - val_accuracy: 0.8600 - 91ms/epoch - 404us/step\n",
      "Epoch 163/200\n",
      "225/225 - 0s - loss: 0.3658 - accuracy: 0.8454 - val_loss: 0.3278 - val_accuracy: 0.8562 - 91ms/epoch - 404us/step\n",
      "Epoch 164/200\n",
      "225/225 - 0s - loss: 0.3626 - accuracy: 0.8467 - val_loss: 0.3282 - val_accuracy: 0.8587 - 90ms/epoch - 401us/step\n",
      "Epoch 165/200\n",
      "225/225 - 0s - loss: 0.3639 - accuracy: 0.8479 - val_loss: 0.3273 - val_accuracy: 0.8575 - 126ms/epoch - 561us/step\n",
      "Epoch 166/200\n",
      "225/225 - 0s - loss: 0.3663 - accuracy: 0.8449 - val_loss: 0.3269 - val_accuracy: 0.8600 - 148ms/epoch - 658us/step\n",
      "Epoch 167/200\n",
      "225/225 - 0s - loss: 0.3617 - accuracy: 0.8485 - val_loss: 0.3259 - val_accuracy: 0.8612 - 96ms/epoch - 428us/step\n",
      "Epoch 168/200\n",
      "225/225 - 0s - loss: 0.3633 - accuracy: 0.8475 - val_loss: 0.3273 - val_accuracy: 0.8575 - 92ms/epoch - 407us/step\n",
      "Epoch 169/200\n",
      "225/225 - 0s - loss: 0.3631 - accuracy: 0.8472 - val_loss: 0.3278 - val_accuracy: 0.8587 - 92ms/epoch - 410us/step\n",
      "Epoch 170/200\n",
      "225/225 - 0s - loss: 0.3598 - accuracy: 0.8487 - val_loss: 0.3272 - val_accuracy: 0.8587 - 92ms/epoch - 410us/step\n",
      "Epoch 171/200\n",
      "225/225 - 0s - loss: 0.3601 - accuracy: 0.8482 - val_loss: 0.3269 - val_accuracy: 0.8562 - 90ms/epoch - 399us/step\n",
      "Epoch 172/200\n",
      "225/225 - 0s - loss: 0.3621 - accuracy: 0.8489 - val_loss: 0.3260 - val_accuracy: 0.8612 - 90ms/epoch - 400us/step\n",
      "Epoch 173/200\n",
      "225/225 - 0s - loss: 0.3596 - accuracy: 0.8482 - val_loss: 0.3258 - val_accuracy: 0.8612 - 90ms/epoch - 398us/step\n",
      "Epoch 174/200\n",
      "225/225 - 0s - loss: 0.3665 - accuracy: 0.8456 - val_loss: 0.3256 - val_accuracy: 0.8600 - 89ms/epoch - 396us/step\n",
      "Epoch 175/200\n",
      "225/225 - 0s - loss: 0.3627 - accuracy: 0.8471 - val_loss: 0.3273 - val_accuracy: 0.8550 - 89ms/epoch - 398us/step\n",
      "Epoch 176/200\n",
      "225/225 - 0s - loss: 0.3629 - accuracy: 0.8462 - val_loss: 0.3265 - val_accuracy: 0.8575 - 87ms/epoch - 388us/step\n",
      "Epoch 177/200\n",
      "225/225 - 0s - loss: 0.3601 - accuracy: 0.8492 - val_loss: 0.3243 - val_accuracy: 0.8600 - 90ms/epoch - 401us/step\n",
      "Epoch 178/200\n",
      "225/225 - 0s - loss: 0.3628 - accuracy: 0.8468 - val_loss: 0.3248 - val_accuracy: 0.8587 - 91ms/epoch - 402us/step\n",
      "Epoch 179/200\n",
      "225/225 - 0s - loss: 0.3588 - accuracy: 0.8479 - val_loss: 0.3245 - val_accuracy: 0.8612 - 90ms/epoch - 401us/step\n",
      "Epoch 180/200\n",
      "225/225 - 0s - loss: 0.3605 - accuracy: 0.8478 - val_loss: 0.3258 - val_accuracy: 0.8612 - 91ms/epoch - 405us/step\n",
      "Epoch 181/200\n",
      "225/225 - 0s - loss: 0.3601 - accuracy: 0.8471 - val_loss: 0.3268 - val_accuracy: 0.8625 - 90ms/epoch - 399us/step\n",
      "Epoch 182/200\n",
      "225/225 - 0s - loss: 0.3606 - accuracy: 0.8506 - val_loss: 0.3270 - val_accuracy: 0.8625 - 91ms/epoch - 403us/step\n",
      "Epoch 183/200\n",
      "225/225 - 0s - loss: 0.3601 - accuracy: 0.8486 - val_loss: 0.3257 - val_accuracy: 0.8587 - 89ms/epoch - 398us/step\n",
      "Epoch 184/200\n",
      "225/225 - 0s - loss: 0.3600 - accuracy: 0.8472 - val_loss: 0.3266 - val_accuracy: 0.8612 - 89ms/epoch - 396us/step\n",
      "Epoch 185/200\n",
      "225/225 - 0s - loss: 0.3600 - accuracy: 0.8469 - val_loss: 0.3267 - val_accuracy: 0.8612 - 90ms/epoch - 399us/step\n",
      "Epoch 186/200\n",
      "225/225 - 0s - loss: 0.3597 - accuracy: 0.8487 - val_loss: 0.3264 - val_accuracy: 0.8575 - 88ms/epoch - 393us/step\n",
      "Epoch 187/200\n",
      "225/225 - 0s - loss: 0.3641 - accuracy: 0.8471 - val_loss: 0.3267 - val_accuracy: 0.8600 - 90ms/epoch - 401us/step\n",
      "Epoch 188/200\n",
      "225/225 - 0s - loss: 0.3572 - accuracy: 0.8499 - val_loss: 0.3261 - val_accuracy: 0.8625 - 90ms/epoch - 398us/step\n",
      "Epoch 189/200\n",
      "225/225 - 0s - loss: 0.3600 - accuracy: 0.8474 - val_loss: 0.3257 - val_accuracy: 0.8600 - 91ms/epoch - 404us/step\n",
      "Epoch 190/200\n",
      "225/225 - 0s - loss: 0.3638 - accuracy: 0.8461 - val_loss: 0.3256 - val_accuracy: 0.8612 - 91ms/epoch - 403us/step\n",
      "Epoch 191/200\n",
      "225/225 - 0s - loss: 0.3578 - accuracy: 0.8493 - val_loss: 0.3271 - val_accuracy: 0.8587 - 90ms/epoch - 401us/step\n",
      "Epoch 192/200\n",
      "225/225 - 0s - loss: 0.3625 - accuracy: 0.8489 - val_loss: 0.3274 - val_accuracy: 0.8562 - 91ms/epoch - 406us/step\n",
      "Epoch 193/200\n",
      "225/225 - 0s - loss: 0.3638 - accuracy: 0.8492 - val_loss: 0.3261 - val_accuracy: 0.8600 - 99ms/epoch - 438us/step\n",
      "Epoch 194/200\n",
      "225/225 - 0s - loss: 0.3599 - accuracy: 0.8494 - val_loss: 0.3269 - val_accuracy: 0.8575 - 91ms/epoch - 404us/step\n",
      "Epoch 195/200\n",
      "225/225 - 0s - loss: 0.3646 - accuracy: 0.8461 - val_loss: 0.3272 - val_accuracy: 0.8587 - 89ms/epoch - 395us/step\n",
      "Epoch 196/200\n",
      "225/225 - 0s - loss: 0.3627 - accuracy: 0.8497 - val_loss: 0.3264 - val_accuracy: 0.8587 - 89ms/epoch - 397us/step\n",
      "Epoch 197/200\n",
      "225/225 - 0s - loss: 0.3605 - accuracy: 0.8458 - val_loss: 0.3261 - val_accuracy: 0.8575 - 89ms/epoch - 393us/step\n",
      "Epoch 198/200\n",
      "225/225 - 0s - loss: 0.3607 - accuracy: 0.8461 - val_loss: 0.3277 - val_accuracy: 0.8587 - 90ms/epoch - 399us/step\n",
      "Epoch 199/200\n",
      "225/225 - 0s - loss: 0.3599 - accuracy: 0.8476 - val_loss: 0.3260 - val_accuracy: 0.8575 - 91ms/epoch - 406us/step\n",
      "Epoch 200/200\n",
      "225/225 - 0s - loss: 0.3619 - accuracy: 0.8454 - val_loss: 0.3258 - val_accuracy: 0.8600 - 91ms/epoch - 403us/step\n"
     ]
    }
   ],
   "source": [
    "history = classifier.fit(X_train, y_train, batch_size=32, epochs=200, validation_split=0.1, verbose=2)"
   ]
  },
  {
   "cell_type": "markdown",
   "metadata": {},
   "source": [
    "### Testing the NN\n",
    "\n",
    "Predicting the Test set results\n",
    "\n",
    "This shows the probability of a customer leaving given the testing data. Each row in X_test corresponds to a row in Y_test"
   ]
  },
  {
   "cell_type": "code",
   "execution_count": 194,
   "metadata": {},
   "outputs": [
    {
     "data": {
      "image/png": "[encoded data removed]",
      "text/plain": [
       "<Figure size 640x480 with 1 Axes>"
      ]
     },
     "metadata": {},
     "output_type": "display_data"
    }
   ],
   "source": [
    "plt.plot(np.array(history.history['accuracy']) * 100)\n",
    "plt.plot(np.array(history.history['val_accuracy']) * 100)\n",
    "plt.ylabel('accuracy')\n",
    "plt.xlabel('epochs')\n",
    "plt.legend(['train', 'validation'])\n",
    "plt.title('Accuracy over epochs')\n",
    "plt.show()"
   ]
  },
  {
   "cell_type": "code",
   "execution_count": 195,
   "metadata": {},
   "outputs": [
    {
     "name": "stdout",
     "output_type": "stream",
     "text": [
      "63/63 [==============================] - 0s 439us/step\n",
      "[[0.32259375]\n",
      " [0.26304004]\n",
      " [0.1800081 ]\n",
      " [0.06218624]\n",
      " [0.10129685]]\n"
     ]
    }
   ],
   "source": [
    "y_pred = classifier.predict(X_test)\n",
    "print(y_pred[:5])"
   ]
  },
  {
   "cell_type": "markdown",
   "metadata": {},
   "source": [
    "To use the confusion Matrix, we need to convert the probabilities that a customer will leave the bank into the form true or false. So we will use the cutoff value 0.5 to indicate whether they are likely to exit or not."
   ]
  },
  {
   "cell_type": "code",
   "execution_count": 196,
   "metadata": {},
   "outputs": [
    {
     "name": "stdout",
     "output_type": "stream",
     "text": [
      "[[0]\n",
      " [0]\n",
      " [0]\n",
      " [0]\n",
      " [0]]\n"
     ]
    }
   ],
   "source": [
    "y_pred = (y_pred > 0.5).astype(int)\n",
    "print(y_pred[:5])"
   ]
  },
  {
   "cell_type": "markdown",
   "metadata": {},
   "source": [
    "Making the Confusion Matrix"
   ]
  },
  {
   "cell_type": "code",
   "execution_count": 197,
   "metadata": {},
   "outputs": [
    {
     "name": "stdout",
     "output_type": "stream",
     "text": [
      "[[1556   39]\n",
      " [ 231  174]]\n"
     ]
    }
   ],
   "source": [
    "from sklearn.metrics import confusion_matrix\n",
    "cm = confusion_matrix(y_test, y_pred)\n",
    "print(cm)"
   ]
  },
  {
   "cell_type": "code",
   "execution_count": 198,
   "metadata": {},
   "outputs": [
    {
     "name": "stdout",
     "output_type": "stream",
     "text": [
      "86.5 % of testing data was classified correctly\n"
     ]
    }
   ],
   "source": [
    "print (((cm[0][0]+cm[1][1])*100)/(len(y_test)), '% of testing data was classified correctly')"
   ]
  }
 ],
 "metadata": {
  "kernelspec": {
   "display_name": "Python 3.9.6 ('venv': venv)",
   "language": "python",
   "name": "python3"
  },
  "language_info": {
   "codemirror_mode": {
    "name": "ipython",
    "version": 3
   },
   "file_extension": ".py",
   "mimetype": "text/x-python",
   "name": "python",
   "nbconvert_exporter": "python",
   "pygments_lexer": "ipython3",
   "version": "3.9.6"
  },
  "orig_nbformat": 4,
  "vscode": {
   "interpreter": {
    "hash": "5020255217b04ea964beb395444fdb6093ed8f41a54576fec0f6b0af8500d995"
   }
  }
 },
 "nbformat": 4,
 "nbformat_minor": 2
}
